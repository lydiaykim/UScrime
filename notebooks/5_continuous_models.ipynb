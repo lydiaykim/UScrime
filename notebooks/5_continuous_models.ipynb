{
 "cells": [
  {
   "cell_type": "markdown",
   "metadata": {},
   "source": [
    "## Continuous models for predicting number of murders in an MSA\n",
    "\n",
    "### Author: Marla \n",
    "#### Last modified by: Lydia\n",
    "#### Last modified: Dec 7 2017\n",
    "\n",
    "This notebook takes the crime, census, and gun law data and uses it to predict the number of murders in a given MSA. \n",
    "\n",
    "We will use three main models for this prediction and select the best among them. The models we will explore are: \n",
    "- OLS with all predictors \n",
    "- Stepwise regression with forwad and backward selection\n",
    "- Regularization with Ridge/Lasso using cross validation to choose the optimal regularization parameters\n",
    "- KNN"
   ]
  },
  {
   "cell_type": "markdown",
   "metadata": {},
   "source": [
    "### 0 Import libraries"
   ]
  },
  {
   "cell_type": "code",
   "execution_count": 1,
   "metadata": {},
   "outputs": [
    {
     "name": "stderr",
     "output_type": "stream",
     "text": [
      "/anaconda/lib/python3.6/site-packages/statsmodels/compat/pandas.py:56: FutureWarning: The pandas.core.datetools module is deprecated and will be removed in a future version. Please use the pandas.tseries module instead.\n",
      "  from pandas.core import datetools\n"
     ]
    }
   ],
   "source": [
    "#import libraries\n",
    "import numpy as np\n",
    "import pandas as pd\n",
    "import matplotlib\n",
    "import matplotlib.pyplot as plt\n",
    "import statsmodels.api as sm\n",
    "from statsmodels.api import OLS\n",
    "from sklearn.decomposition import PCA\n",
    "from sklearn.neighbors import KNeighborsRegressor\n",
    "from sklearn.linear_model import LogisticRegression\n",
    "from sklearn.linear_model import LogisticRegressionCV\n",
    "from sklearn.linear_model import LinearRegression\n",
    "from sklearn.model_selection import cross_val_score\n",
    "from sklearn.metrics import accuracy_score\n",
    "from sklearn import preprocessing\n",
    "from sklearn.preprocessing import PolynomialFeatures\n",
    "from sklearn.linear_model import Ridge\n",
    "from sklearn.linear_model import Lasso\n",
    "from sklearn.linear_model import RidgeCV\n",
    "from sklearn.linear_model import LassoCV\n",
    "from sklearn.utils import resample\n",
    "from sklearn.model_selection import cross_val_score\n",
    "from sklearn.metrics import accuracy_score\n",
    "%matplotlib inline\n",
    "import seaborn.apionly as sns\n",
    "import datetime\n",
    "from datetime import tzinfo, timedelta, datetime\n",
    "from sklearn.metrics import classification_report\n",
    "from sklearn.metrics import confusion_matrix\n",
    "import sklearn.metrics as metrics\n",
    "from sklearn.model_selection import GridSearchCV\n",
    "from scipy import stats\n",
    "\n"
   ]
  },
  {
   "cell_type": "markdown",
   "metadata": {},
   "source": [
    "### 1 Data set up "
   ]
  },
  {
   "cell_type": "markdown",
   "metadata": {},
   "source": [
    "In this section we split our data into training and test sets and select out the variables we will use as our predictors and outcome of interest. \n",
    "\n",
    "##### Outcome\n",
    "Our outcome of interest is murders. This data come from the FBI crime database. There are 3 different outcome variables we could potentially use.\n",
    "- Total murders\n",
    "- Estimated murders\n",
    "- Murder rate. \n",
    "\n",
    "We do the set up for all 3 but we will focus mostly on murder rate.\n",
    "\n",
    "#### Predictors \n",
    "Our predictors come from 2 sources the census data and federal government data on gun laws. \n",
    "\n",
    "*Gun Laws*\n",
    "- To start we use all of the data on gun laws. These are data with dummies for whether each state has a given gun regulation. We may choose to aggregate these up into categories of gun legislation at a later point. \n",
    "\n",
    "*Census Data*\n",
    "- We selected which census variable to use based on the evidence from our liturature review and the results of our EDA. This lead us to choose variables on the following issues:\n",
    "\n",
    "*Question for us, do we want to use racially disag for these as much as possible or not?*\n",
    "   \n",
    "   - Racial composition\n",
    "   - Age structure\n",
    "   - Dependecy ratio\n",
    "   - Sex ratio\n",
    "   - Family structure (single parents)\n",
    "   - Family structure (household size)\n",
    "   - Family structure (marriage rates)\n",
    "   - School enrollment (public vs private)\n",
    "   - Educational attainment (for 25+)\n",
    "   - Poverty rates by racial group\n",
    "   - Income brackets\n",
    "   - Unemployment by racial groups\n",
    "   - Home ownership"
   ]
  },
  {
   "cell_type": "code",
   "execution_count": 2,
   "metadata": {},
   "outputs": [
    {
     "data": {
      "text/plain": [
       "(3893, 304)"
      ]
     },
     "execution_count": 2,
     "metadata": {},
     "output_type": "execute_result"
    }
   ],
   "source": [
    "#import data\n",
    "df = pd.read_csv('cleaned data/merged_dataset.csv')\n",
    "df.shape"
   ]
  },
  {
   "cell_type": "code",
   "execution_count": 3,
   "metadata": {},
   "outputs": [
    {
     "data": {
      "text/plain": [
       "(3893, 318)"
      ]
     },
     "execution_count": 3,
     "metadata": {},
     "output_type": "execute_result"
    }
   ],
   "source": [
    "#create some vars\n",
    "def makelog(dframe, varname, varname2, orig_var):\n",
    "    dframe[varname] = np.log(dframe[orig_var])\n",
    "    dframe[varname2] = (np.log(dframe[orig_var]))**2\n",
    "    \n",
    "    \n",
    "makelog(df, 'log_pop', 'log_pop2', 'pop')\n",
    "makelog(df, 'log_mean_inc_white', 'log_mean_inc_white2', 'mean_inc_white')\n",
    "makelog(df, 'log_mean_inc_black', 'log_mean_inc_black2', 'mean_inc_black')\n",
    "makelog(df, 'log_mean_inc_hispanic', 'log_mean_inc_hispanic2', 'mean_inc_hispanic')\n",
    "\n",
    "\n",
    "df['poor_nonwhite']=df['poor']-df['poor_white']\n",
    "df['LA'] = df['state'] == 'Louisiana'\n",
    "df['AK'] = df['state'] == 'Arkansas'\n",
    "df['MI'] = df['state'] == 'Mississippi'\n",
    "df['SC'] = df['state'] == 'South Carolina'\n",
    "df['OK'] = df['state'] == 'Oklahoma'\n",
    "\n",
    "df.shape"
   ]
  },
  {
   "cell_type": "code",
   "execution_count": 4,
   "metadata": {},
   "outputs": [
    {
     "data": {
      "text/html": [
       "<div>\n",
       "<style>\n",
       "    .dataframe thead tr:only-child th {\n",
       "        text-align: right;\n",
       "    }\n",
       "\n",
       "    .dataframe thead th {\n",
       "        text-align: left;\n",
       "    }\n",
       "\n",
       "    .dataframe tbody tr th {\n",
       "        vertical-align: top;\n",
       "    }\n",
       "</style>\n",
       "<table border=\"1\" class=\"dataframe\">\n",
       "  <thead>\n",
       "    <tr style=\"text-align: right;\">\n",
       "      <th></th>\n",
       "      <th>Unnamed: 0</th>\n",
       "      <th>MSA_name</th>\n",
       "      <th>Total</th>\n",
       "      <th>Estimated</th>\n",
       "      <th>Rate</th>\n",
       "      <th>MSA</th>\n",
       "      <th>year</th>\n",
       "      <th>state</th>\n",
       "      <th>age18longgunpossess</th>\n",
       "      <th>age18longgunsale</th>\n",
       "      <th>...</th>\n",
       "      <th>log_mean_inc_black</th>\n",
       "      <th>log_mean_inc_black2</th>\n",
       "      <th>log_mean_inc_hispanic</th>\n",
       "      <th>log_mean_inc_hispanic2</th>\n",
       "      <th>poor_nonwhite</th>\n",
       "      <th>LA</th>\n",
       "      <th>AK</th>\n",
       "      <th>MI</th>\n",
       "      <th>SC</th>\n",
       "      <th>OK</th>\n",
       "    </tr>\n",
       "  </thead>\n",
       "  <tbody>\n",
       "    <tr>\n",
       "      <th>0</th>\n",
       "      <td>0</td>\n",
       "      <td>Abilene, TX</td>\n",
       "      <td>6.0</td>\n",
       "      <td>6</td>\n",
       "      <td>3.7</td>\n",
       "      <td>10180</td>\n",
       "      <td>2006</td>\n",
       "      <td>Texas</td>\n",
       "      <td>0.0</td>\n",
       "      <td>1.0</td>\n",
       "      <td>...</td>\n",
       "      <td>9.384882</td>\n",
       "      <td>88.076005</td>\n",
       "      <td>9.312807</td>\n",
       "      <td>86.728369</td>\n",
       "      <td>4.2</td>\n",
       "      <td>False</td>\n",
       "      <td>False</td>\n",
       "      <td>False</td>\n",
       "      <td>False</td>\n",
       "      <td>False</td>\n",
       "    </tr>\n",
       "    <tr>\n",
       "      <th>1</th>\n",
       "      <td>2078</td>\n",
       "      <td>Abilene, TX</td>\n",
       "      <td>3.0</td>\n",
       "      <td>3</td>\n",
       "      <td>1.8</td>\n",
       "      <td>10180</td>\n",
       "      <td>2012</td>\n",
       "      <td>Texas</td>\n",
       "      <td>0.0</td>\n",
       "      <td>1.0</td>\n",
       "      <td>...</td>\n",
       "      <td>9.146228</td>\n",
       "      <td>83.653494</td>\n",
       "      <td>9.390743</td>\n",
       "      <td>88.186062</td>\n",
       "      <td>4.5</td>\n",
       "      <td>False</td>\n",
       "      <td>False</td>\n",
       "      <td>False</td>\n",
       "      <td>False</td>\n",
       "      <td>False</td>\n",
       "    </tr>\n",
       "    <tr>\n",
       "      <th>2</th>\n",
       "      <td>2805</td>\n",
       "      <td>Abilene, TX</td>\n",
       "      <td>10.0</td>\n",
       "      <td>10</td>\n",
       "      <td>5.9</td>\n",
       "      <td>10180</td>\n",
       "      <td>2014</td>\n",
       "      <td>Texas</td>\n",
       "      <td>0.0</td>\n",
       "      <td>1.0</td>\n",
       "      <td>...</td>\n",
       "      <td>9.423029</td>\n",
       "      <td>88.793484</td>\n",
       "      <td>9.555135</td>\n",
       "      <td>91.300605</td>\n",
       "      <td>3.0</td>\n",
       "      <td>False</td>\n",
       "      <td>False</td>\n",
       "      <td>False</td>\n",
       "      <td>False</td>\n",
       "      <td>False</td>\n",
       "    </tr>\n",
       "    <tr>\n",
       "      <th>3</th>\n",
       "      <td>1723</td>\n",
       "      <td>Abilene, TX</td>\n",
       "      <td>5.0</td>\n",
       "      <td>5</td>\n",
       "      <td>3.0</td>\n",
       "      <td>10180</td>\n",
       "      <td>2011</td>\n",
       "      <td>Texas</td>\n",
       "      <td>0.0</td>\n",
       "      <td>1.0</td>\n",
       "      <td>...</td>\n",
       "      <td>9.573176</td>\n",
       "      <td>91.645704</td>\n",
       "      <td>9.471935</td>\n",
       "      <td>89.717555</td>\n",
       "      <td>1.9</td>\n",
       "      <td>False</td>\n",
       "      <td>False</td>\n",
       "      <td>False</td>\n",
       "      <td>False</td>\n",
       "      <td>False</td>\n",
       "    </tr>\n",
       "    <tr>\n",
       "      <th>4</th>\n",
       "      <td>1367</td>\n",
       "      <td>Abilene, TX</td>\n",
       "      <td>5.0</td>\n",
       "      <td>5</td>\n",
       "      <td>3.1</td>\n",
       "      <td>10180</td>\n",
       "      <td>2010</td>\n",
       "      <td>Texas</td>\n",
       "      <td>0.0</td>\n",
       "      <td>1.0</td>\n",
       "      <td>...</td>\n",
       "      <td>9.345570</td>\n",
       "      <td>87.339685</td>\n",
       "      <td>9.357380</td>\n",
       "      <td>87.560563</td>\n",
       "      <td>3.7</td>\n",
       "      <td>False</td>\n",
       "      <td>False</td>\n",
       "      <td>False</td>\n",
       "      <td>False</td>\n",
       "      <td>False</td>\n",
       "    </tr>\n",
       "  </tbody>\n",
       "</table>\n",
       "<p>5 rows × 318 columns</p>\n",
       "</div>"
      ],
      "text/plain": [
       "   Unnamed: 0     MSA_name  Total  Estimated  Rate    MSA  year  state  \\\n",
       "0           0  Abilene, TX    6.0          6   3.7  10180  2006  Texas   \n",
       "1        2078  Abilene, TX    3.0          3   1.8  10180  2012  Texas   \n",
       "2        2805  Abilene, TX   10.0         10   5.9  10180  2014  Texas   \n",
       "3        1723  Abilene, TX    5.0          5   3.0  10180  2011  Texas   \n",
       "4        1367  Abilene, TX    5.0          5   3.1  10180  2010  Texas   \n",
       "\n",
       "   age18longgunpossess  age18longgunsale  ...    log_mean_inc_black  \\\n",
       "0                  0.0               1.0  ...              9.384882   \n",
       "1                  0.0               1.0  ...              9.146228   \n",
       "2                  0.0               1.0  ...              9.423029   \n",
       "3                  0.0               1.0  ...              9.573176   \n",
       "4                  0.0               1.0  ...              9.345570   \n",
       "\n",
       "   log_mean_inc_black2  log_mean_inc_hispanic  log_mean_inc_hispanic2  \\\n",
       "0            88.076005               9.312807               86.728369   \n",
       "1            83.653494               9.390743               88.186062   \n",
       "2            88.793484               9.555135               91.300605   \n",
       "3            91.645704               9.471935               89.717555   \n",
       "4            87.339685               9.357380               87.560563   \n",
       "\n",
       "   poor_nonwhite     LA     AK     MI     SC     OK  \n",
       "0            4.2  False  False  False  False  False  \n",
       "1            4.5  False  False  False  False  False  \n",
       "2            3.0  False  False  False  False  False  \n",
       "3            1.9  False  False  False  False  False  \n",
       "4            3.7  False  False  False  False  False  \n",
       "\n",
       "[5 rows x 318 columns]"
      ]
     },
     "execution_count": 4,
     "metadata": {},
     "output_type": "execute_result"
    }
   ],
   "source": [
    "df.head()"
   ]
  },
  {
   "cell_type": "code",
   "execution_count": 5,
   "metadata": {
    "collapsed": true
   },
   "outputs": [],
   "source": [
    "#split into training and test datasets \n",
    "np.random.seed(1818)\n",
    "msk = np.random.rand(len(df)) < 0.66\n",
    "data_train = df[msk]\n",
    "data_test = df[~msk]"
   ]
  },
  {
   "cell_type": "code",
   "execution_count": 6,
   "metadata": {
    "collapsed": true
   },
   "outputs": [],
   "source": [
    "#set the predictors we will use \n",
    "df_gun_laws=pd.read_csv('raw data/state-firearms/raw_data.csv')\n",
    "gun_vars = list(df_gun_laws)[2:]\n",
    "\n",
    "\n",
    "#census vars\n",
    "cen_vars1=['pct_hispanic', 'pct_white', 'pct_black', 'pct_indian', 'pct_asian', 'pct_hawaiian', \n",
    "           'pct_other', 'pct_mixed', 'pct_foreign_citizen']\n",
    "cen_vars2 = ['log_pop', 'log_pop2', 'pop5_14', 'pop15_17', 'pop18_24', 'pop15_44', 'pop65up', \n",
    "             'median_age', 'sex_ratio',  'age_dep', 'oldage_dep', 'child_dep']\n",
    "cen_vars3 = ['families_singledad', 'families_singlemom', 'family_size',  'pct_ownhouse']\n",
    "cen_vars4 = ['pct15up_married', 'pct15up_widowed', 'pct15up_divorced', 'pct15up_separated', \n",
    "             'pct15up_nevermar', 'pct15up_married_f', 'pct15up_divorced_f', 'pct15up_separated_f' , \n",
    "             'pct15up_married_m', 'pct15up_divorced_m', 'pct15up_separated_m' ]\n",
    "cen_vars5 = ['pct_enroll_public', 'pct_enroll_private', 'pct15_17_enroll', 'pct18_19_enroll', \n",
    "             'pct18_24_lesshs', 'pct18_24_hs', 'pct18_24_somecol']\n",
    "cen_vars6 = ['pct25up_less9','pct25up_nohs', 'pct25up_hs', 'pct25up_somecol', 'pct25up_somecol2', \n",
    "             'pct25up_col', 'pct25up_grad']\n",
    "cen_vars7 = ['poor', 'poor_nonwhite', 'fam_cash_assist', 'fam_social_sec', 'log_mean_inc_white', \n",
    "             'log_mean_inc_white2','log_mean_inc_black', 'log_mean_inc_black2','income10lo', 'income10_15', \n",
    "             'income15_25', 'income25_35', 'income35_50', 'income50_75', 'income75_100', 'income100_150', \n",
    "             'income150_200', 'income200up']\n",
    "cen_vars8 = ['pct18_veterans', 'pct_disabled20_64', 'employed20_64', 'unemployed20_64', 'employed_white', \n",
    "             'unemployed_white', 'employed20_64_m', 'unemployed20_64_m', 'employed20_64_f', 'unemployed20_64_f']\n",
    "cen_vars9 = ['pct16_manuf', 'pct16_info', 'pct16_finance', 'pct16_prof', 'pct16_edhealth', 'LA', 'AK', 'MI', 'SC','OK']\n",
    "cen_vars = cen_vars1 + cen_vars2 + cen_vars3 +cen_vars4 +cen_vars5+ cen_vars6 +cen_vars7 + cen_vars8 + cen_vars9\n",
    "\n",
    "#all predictors\n",
    "predictors = gun_vars + cen_vars\n",
    "\n",
    "#set outcomes\n",
    "outcomes=['Total', 'Estimated', 'Rate']\n",
    "\n",
    "#all vars of interest\n",
    "var_needed= predictors+outcomes"
   ]
  },
  {
   "cell_type": "code",
   "execution_count": 7,
   "metadata": {},
   "outputs": [
    {
     "name": "stdout",
     "output_type": "stream",
     "text": [
      "(2610, 225) (1283, 225)\n"
     ]
    }
   ],
   "source": [
    "#limit datasets to just subset of vars\n",
    "data_train=data_train[var_needed]\n",
    "data_test=data_test[var_needed]\n",
    "print(data_train.shape, data_test.shape)"
   ]
  },
  {
   "cell_type": "code",
   "execution_count": 8,
   "metadata": {},
   "outputs": [],
   "source": [
    "#set the three different outcome variables we will be looking at\n",
    "y_total_train = data_train['Total']\n",
    "y_total_test = data_test['Total']\n",
    "\n",
    "y_est_train = data_train['Estimated']\n",
    "y_est_test = data_test['Estimated']\n",
    "\n",
    "y_rate_train = data_train['Rate']\n",
    "y_rate_test = data_test['Rate']\n",
    "\n",
    "#make x_test and x_train\n",
    "X_train=data_train[predictors]\n",
    "X_test=data_test[predictors]"
   ]
  },
  {
   "cell_type": "markdown",
   "metadata": {},
   "source": [
    "## 2 Variable selection using LASSO"
   ]
  },
  {
   "cell_type": "code",
   "execution_count": 9,
   "metadata": {},
   "outputs": [
    {
     "name": "stderr",
     "output_type": "stream",
     "text": [
      "/anaconda/lib/python3.6/site-packages/sklearn/linear_model/coordinate_descent.py:484: ConvergenceWarning: Objective did not converge. You might want to increase the number of iterations. Fitting data with very small alpha may cause precision problems.\n",
      "  ConvergenceWarning)\n"
     ]
    },
    {
     "name": "stdout",
     "output_type": "stream",
     "text": [
      "Lasso training R^2: 0.503825551412\n",
      "Lasso test R^2: 0.504268619176\n"
     ]
    }
   ],
   "source": [
    "#Lasso regression\n",
    "alphas = [1e-5, 1e-4, 1e-3, 1e-2, 1e-1, 1.0, 1e1, 1e2, 1e3, 1e4, 1e5]\n",
    "\n",
    "lasso_cv = LassoCV(alphas=alphas, fit_intercept=True, cv=10, normalize=True)\n",
    "lasso_cv.fit(X_train, y_rate_train)\n",
    "\n",
    "print('Lasso training R^2:', lasso_cv.score(X_train, y_rate_train))\n",
    "print('Lasso test R^2:', lasso_cv.score(X_test, y_rate_test))"
   ]
  },
  {
   "cell_type": "code",
   "execution_count": 10,
   "metadata": {},
   "outputs": [],
   "source": [
    "betas = np.absolute(lasso_cv.coef_)\n",
    "neg = np.where(betas < 1e-10)\n",
    "neg[0]\n",
    "zero_coef = []\n",
    "for x in neg[0]:\n",
    "    zero_coef.append(X_train.columns[x])"
   ]
  },
  {
   "cell_type": "code",
   "execution_count": 11,
   "metadata": {},
   "outputs": [
    {
     "name": "stdout",
     "output_type": "stream",
     "text": [
      "LASSO Predictors with coefficients not near 0:\n",
      "age21longgunpossess\n",
      "ccbackgroundnics\n",
      "ccrevoke\n",
      "dealerh\n",
      "drugmisdemeanor\n",
      "incidentremoval\n",
      "lockd\n",
      "loststolen\n",
      "onepermonth\n",
      "opencarryh\n",
      "opencarrypermith\n",
      "permitconcealed\n",
      "personalized\n",
      "recordsallh\n",
      "stalking\n",
      "pct_white\n",
      "pct_black\n",
      "pct_indian\n",
      "pct_foreign_citizen\n",
      "log_pop\n",
      "pop15_17\n",
      "sex_ratio\n",
      "families_singledad\n",
      "families_singlemom\n",
      "pct15up_widowed\n",
      "pct15up_separated\n",
      "pct15up_married_m\n",
      "pct_enroll_private\n",
      "pct18_24_lesshs\n",
      "pct25up_nohs\n",
      "pct25up_somecol\n",
      "pct25up_somecol2\n",
      "pct25up_grad\n",
      "poor_nonwhite\n",
      "fam_cash_assist\n",
      "income25_35\n",
      "income35_50\n",
      "income50_75\n",
      "income200up\n",
      "pct_disabled20_64\n",
      "unemployed_white\n",
      "pct16_manuf\n",
      "LA\n",
      "AK\n",
      "MI\n",
      "OK\n"
     ]
    }
   ],
   "source": [
    "#Which predictors did Lasso keep (ie not set to near 0)?\n",
    "betas = np.absolute(lasso_cv.coef_)\n",
    "neg = np.where(betas > 1e-10)\n",
    "nonzero_coef = []\n",
    "print(\"LASSO Predictors with coefficients not near 0:\")\n",
    "for x in neg[0]:\n",
    "    nonzero_coef.append(X_train.columns[x])\n",
    "    print(X_train.columns[x])"
   ]
  },
  {
   "cell_type": "code",
   "execution_count": 12,
   "metadata": {},
   "outputs": [
    {
     "data": {
      "text/plain": [
       "(2610, 46)"
      ]
     },
     "execution_count": 12,
     "metadata": {},
     "output_type": "execute_result"
    }
   ],
   "source": [
    "# drop unimportant coefficients from LASSO\n",
    "X_train = X_train.drop(zero_coef, axis=1)\n",
    "X_test = X_test.drop(zero_coef, axis=1)\n",
    "X_train.shape"
   ]
  },
  {
   "cell_type": "markdown",
   "metadata": {},
   "source": [
    "## 3 Models"
   ]
  },
  {
   "cell_type": "code",
   "execution_count": 13,
   "metadata": {},
   "outputs": [],
   "source": [
    "## OLS\n",
    "LinearReg = LinearRegression(fit_intercept=True)\n",
    "LinearReg.fit(X_train, y_rate_train)\n",
    "np.mean(cross_val_score(LinearReg, X_train, y_rate_train, cv=5))\n",
    "\n",
    "OLS_scores = pd.Series([np.mean(cross_val_score(LinearReg, X_train, y_rate_train, cv=5)), \n",
    "            np.mean(cross_val_score(LinearReg, X_test, y_rate_test,cv=5))], \n",
    "            index=['Train R^2', 'Test R^2'])"
   ]
  },
  {
   "cell_type": "code",
   "execution_count": 14,
   "metadata": {},
   "outputs": [],
   "source": [
    "#Ridge regression\n",
    "alphas = [1e-5, 1e-4, 1e-3, 1e-2, 1e-1, 1.0, 1e1, 1e2, 1e3, 1e4, 1e5]\n",
    "a={'alpha': alphas}\n",
    "ridge=Ridge(fit_intercept=True, normalize=True)\n",
    "ridge_cv = GridSearchCV(ridge, param_grid=[a], cv=10)\n",
    "ridge_cv.fit(X_train, y_rate_train)\n",
    "\n",
    "Ridge_scores = pd.Series([ridge_cv.score(X_train, y_rate_train), ridge_cv.score(X_test, y_rate_test)], \n",
    "            index=['Train R^2', 'Test R^2'])"
   ]
  },
  {
   "cell_type": "code",
   "execution_count": 15,
   "metadata": {},
   "outputs": [],
   "source": [
    "#Lasso regression\n",
    "lasso_cv = LassoCV(alphas=alphas, fit_intercept=True, cv=10, normalize=True)\n",
    "lasso_cv.fit(X_train, y_rate_train)\n",
    "\n",
    "LASSO_scores = pd.Series([lasso_cv.score(X_train, y_rate_train), lasso_cv.score(X_test, y_rate_test)], \n",
    "            index=['Train R^2', 'Test R^2'])"
   ]
  },
  {
   "cell_type": "code",
   "execution_count": 16,
   "metadata": {},
   "outputs": [],
   "source": [
    "## kNN\n",
    "klist = {'n_neighbors':[2, 5, 10, 20, 40, 50]}\n",
    "knn_cv = GridSearchCV(KNeighborsRegressor(), param_grid=[klist], cv=10)\n",
    "knn_cv.fit(X_train, y_rate_train)\n",
    "\n",
    "kNN_scores = pd.Series([knn_cv.score(X_train, y_rate_train), knn_cv.score(X_test, y_rate_test)], \n",
    "            index=['Train R^2', 'Test R^2'])"
   ]
  },
  {
   "cell_type": "code",
   "execution_count": 17,
   "metadata": {},
   "outputs": [
    {
     "data": {
      "text/html": [
       "<div>\n",
       "<style>\n",
       "    .dataframe thead tr:only-child th {\n",
       "        text-align: right;\n",
       "    }\n",
       "\n",
       "    .dataframe thead th {\n",
       "        text-align: left;\n",
       "    }\n",
       "\n",
       "    .dataframe tbody tr th {\n",
       "        vertical-align: top;\n",
       "    }\n",
       "</style>\n",
       "<table border=\"1\" class=\"dataframe\">\n",
       "  <thead>\n",
       "    <tr style=\"text-align: right;\">\n",
       "      <th></th>\n",
       "      <th>LASSO</th>\n",
       "      <th>OLS</th>\n",
       "      <th>Ridge</th>\n",
       "      <th>kNN</th>\n",
       "    </tr>\n",
       "  </thead>\n",
       "  <tbody>\n",
       "    <tr>\n",
       "      <th>Train R^2</th>\n",
       "      <td>0.519474</td>\n",
       "      <td>0.446783</td>\n",
       "      <td>0.512779</td>\n",
       "      <td>0.228430</td>\n",
       "    </tr>\n",
       "    <tr>\n",
       "      <th>Test R^2</th>\n",
       "      <td>0.518703</td>\n",
       "      <td>0.437526</td>\n",
       "      <td>0.517634</td>\n",
       "      <td>0.169981</td>\n",
       "    </tr>\n",
       "  </tbody>\n",
       "</table>\n",
       "</div>"
      ],
      "text/plain": [
       "              LASSO       OLS     Ridge       kNN\n",
       "Train R^2  0.519474  0.446783  0.512779  0.228430\n",
       "Test R^2   0.518703  0.437526  0.517634  0.169981"
      ]
     },
     "execution_count": 17,
     "metadata": {},
     "output_type": "execute_result"
    }
   ],
   "source": [
    "# Score Dataframe\n",
    "score_df = pd.DataFrame({'OLS': OLS_scores, 'Ridge': Ridge_scores,\n",
    "                         'LASSO': LASSO_scores,'kNN': kNN_scores})\n",
    "score_df"
   ]
  },
  {
   "cell_type": "code",
   "execution_count": null,
   "metadata": {
    "collapsed": true
   },
   "outputs": [],
   "source": []
  }
 ],
 "metadata": {
  "kernelspec": {
   "display_name": "Python 3",
   "language": "python",
   "name": "python3"
  },
  "language_info": {
   "codemirror_mode": {
    "name": "ipython",
    "version": 3
   },
   "file_extension": ".py",
   "mimetype": "text/x-python",
   "name": "python",
   "nbconvert_exporter": "python",
   "pygments_lexer": "ipython3",
   "version": "3.6.1"
  }
 },
 "nbformat": 4,
 "nbformat_minor": 2
}
