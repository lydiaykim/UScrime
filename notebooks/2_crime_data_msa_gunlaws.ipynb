{
 "cells": [
  {
   "cell_type": "markdown",
   "metadata": {},
   "source": [
    "### Merging datasets: adding MSA codes and states classifications to FBI crime data.\n",
    "#### Author: Marla\n",
    "#### Last modified: Dec 3, 11:50pm\n",
    "This notebook adds MSA codes to the FBI crime data. MSA codes are taken from census data file. It also merges in data on firearms using zip codes.\n",
    "\n",
    "Since MSA names codes can be different in different years as statistical areas change we seperate out both the crime data and the census data by year and merge each individuall then append the datasets back together again. This works reasonably well but there are ~40 MSAs in the FBI data whose names do not match directly on the string names to the string names in the census data. These will have to be manually modified, but we will do that at a later date for now just using this rough match to move forward with EDA. \n",
    "\n",
    "Note that CBSA codes comprise of Metropolitan and Micropolitan Statistical areas. \n",
    "\n",
    "**Inputs:**\n",
    "    - murder_data.csv\n",
    "    - MSA_codes_from_census.csv\n",
    "    - state-firearms\n",
    "**Output:** \n",
    "    - df_crime_gunlaw_msacodes.csv"
   ]
  },
  {
   "cell_type": "code",
   "execution_count": 1,
   "metadata": {
    "collapsed": true
   },
   "outputs": [],
   "source": [
    "#set up\n",
    "import numpy as np\n",
    "import pandas as pd\n",
    "import matplotlib\n",
    "import matplotlib.pyplot as plt"
   ]
  },
  {
   "cell_type": "markdown",
   "metadata": {},
   "source": [
    "### Add Census MSA Codes to FBI MSA Names"
   ]
  },
  {
   "cell_type": "code",
   "execution_count": 2,
   "metadata": {
    "collapsed": true
   },
   "outputs": [],
   "source": [
    "#prep different data frames\n",
    "df_crime=pd.read_csv('raw data/murder_data.csv')\n",
    "df_msa_census_code=pd.read_csv('raw data/MSA_codes_from_census.csv')\n"
   ]
  },
  {
   "cell_type": "code",
   "execution_count": 3,
   "metadata": {
    "collapsed": true
   },
   "outputs": [],
   "source": [
    "#general clean up of msa names\n",
    "df_crime = df_crime.rename(columns={'MSA': 'MSA_name'})\n",
    "df_msa_census_code=df_msa_census_code.replace({ \" Micro Area\" : \"\" }, regex=True)\n",
    "df_msa_census_code=df_msa_census_code.replace({ \" Metro Area\" : \"\" }, regex=True)\n",
    "df_crime['MSA_original_name']=df_crime['MSA_name']\n",
    "df_crime['MSA_name'].replace('M.S.A','',regex=True,inplace=True)\n",
    "df_crime['MSA_name'].replace('M.D.','',regex=True,inplace=True)\n",
    "df_crime['MSA_name'].replace(' 1','',regex=True,inplace=True)\n",
    "df_crime['MSA_name'].replace(' 4','',regex=True,inplace=True)\n",
    "df_crime['MSA_name'].replace(' 2','',regex=True,inplace=True)\n",
    "df_crime['MSA_name'].replace(' 3','',regex=True,inplace=True)\n",
    "df_crime['MSA_name'].replace(', 5','',regex=True,inplace=True)\n",
    "df_crime['MSA_name'] = df_crime['MSA_name'].str.strip()"
   ]
  },
  {
   "cell_type": "code",
   "execution_count": 4,
   "metadata": {
    "collapsed": true
   },
   "outputs": [],
   "source": [
    "#set both datasets so that MSA_name is the index in the code dataframe\n",
    "df_msa_census_code=df_msa_census_code.set_index('MSA_name')\n"
   ]
  },
  {
   "cell_type": "code",
   "execution_count": 5,
   "metadata": {
    "collapsed": true
   },
   "outputs": [],
   "source": [
    "#seperate out years for crime data and census data codes, make seperate dataframes fore each. \n",
    "#this makes merging easier since both the FBI data and census data MSA names vary between years.\n",
    "crime_dic={}\n",
    "code_dic={}\n",
    "for y in range(2006, 2017): \n",
    "    df_new_crime = df_crime.loc[df_crime['Year'] == y]\n",
    "    crime_dic[y]= df_new_crime\n",
    "    df_new_code = df_msa_census_code.loc[df_msa_census_code['year']==y]\n",
    "    code_dic[y]=df_new_code\n",
    "\n",
    "\n"
   ]
  },
  {
   "cell_type": "code",
   "execution_count": 6,
   "metadata": {},
   "outputs": [
    {
     "name": "stdout",
     "output_type": "stream",
     "text": [
      "(4114, 7)\n",
      "(5694, 2)\n"
     ]
    }
   ],
   "source": [
    "print(df_crime.shape)\n",
    "print(df_msa_census_code.shape)"
   ]
  },
  {
   "cell_type": "markdown",
   "metadata": {},
   "source": [
    "#### Clean MSA Names\n",
    "The MSA names in the crime and census list do not always match perfectly. The mismatches vary slightly between years as MSA names vary between years in both the FBI and the census data. We go through year by year and correct as many of these as possible. Two important notes: \n",
    "- There are still a handful of MSAs in the FBI data for each year where no matching MSA can be found in the census data. These are listed below the following code by year. They are dropped when the FBI and census codes are joined. \n",
    "- There are some cases were two FBI MSAs match to one census MSA.  "
   ]
  },
  {
   "cell_type": "code",
   "execution_count": 7,
   "metadata": {},
   "outputs": [
    {
     "name": "stderr",
     "output_type": "stream",
     "text": [
      "/anaconda/lib/python3.6/site-packages/pandas/core/generic.py:2999: SettingWithCopyWarning: \n",
      "A value is trying to be set on a copy of a slice from a DataFrame.\n",
      "Try using .loc[row_indexer,col_indexer] = value instead\n",
      "\n",
      "See the caveats in the documentation: http://pandas.pydata.org/pandas-docs/stable/indexing.html#indexing-view-versus-copy\n",
      "  self[name] = value\n"
     ]
    }
   ],
   "source": [
    "#clean up names of msa\n",
    "\n",
    "\n",
    "#2006\n",
    "crime_dic[2006].MSA_name = crime_dic[2006].MSA_name.replace('Aguadilla-Isabela-San Sebastian, Puerto Rico','Aguadilla-Isabela-San Sebastián, Puerto Rico')\n",
    "crime_dic[2006].MSA_name = crime_dic[2006].MSA_name.replace('Fort Worth-Arlington, TX','Dallas-Fort Worth-Arlington, TX')\n",
    "crime_dic[2006].MSA_name = crime_dic[2006].MSA_name.replace('Dallas-Plano-Irving, TX','Dallas-Fort Worth-Arlington, TX')\n",
    "crime_dic[2006].MSA_name = crime_dic[2006].MSA_name.replace('Detroit-Livonia-Dearborn, MI','Detroit-Warren-Livonia, MI')\n",
    "crime_dic[2006].MSA_name = crime_dic[2006].MSA_name.replace('Fort Lauderdale-Pompano Beach-Deerfield Beach, FL','Miami-Fort Lauderdale-Miami Beach, FL')\n",
    "crime_dic[2006].MSA_name = crime_dic[2006].MSA_name.replace('Miami-Miami Beach-Kendall, FL','Miami-Fort Lauderdale-Miami Beach, FL')\n",
    "crime_dic[2006].MSA_name = crime_dic[2006].MSA_name.replace('Port St. Lucie-Fort Pierce, FL','Port St. Lucie, FL')\n",
    "crime_dic[2006].MSA_name = crime_dic[2006].MSA_name.replace('Greenville-Mauldin-Easley, SC','Greenville, SC')\n",
    "crime_dic[2006].MSA_name = crime_dic[2006].MSA_name.replace('Seattle-Bellevue-Everett, WA','Seattle-Tacoma-Bellevue, WA')\n",
    "crime_dic[2006].MSA_name = crime_dic[2006].MSA_name.replace('Little Rock-North Little Rock-Conway, AR','Little Rock-North Little Rock, AR')\n",
    "crime_dic[2006].MSA_name = crime_dic[2006].MSA_name.replace('Los Angeles-Long Beach-Glendale, CA','Los Angeles-Long Beach-Santa Ana, CA')\n",
    "crime_dic[2006].MSA_name = crime_dic[2006].MSA_name.replace('New York-White Plains-Wayne, NY-NJ','New York-Northern New Jersey-Long Island, NY-NJ-PA')\n",
    "crime_dic[2006].MSA_name = crime_dic[2006].MSA_name.replace('Philadelphia, PA','Philadelphia-Camden-Wilmington, PA-NJ-DE-MD')\n",
    "crime_dic[2006].MSA_name = crime_dic[2006].MSA_name.replace('Oakland-Fremont-Hayward, CA','San Francisco-Oakland-Fremont, CA')\n",
    "crime_dic[2006].MSA_name = crime_dic[2006].MSA_name.replace('San Francisco-San Mateo-Redwood City, CA','San Francisco-Oakland-Fremont, CA')\n",
    "crime_dic[2006].MSA_name = crime_dic[2006].MSA_name.replace('Santa Barbara-Santa Maria-Goleta, CA','Santa Barbara-Santa Maria, CA')\n",
    "crime_dic[2006].MSA_name = crime_dic[2006].MSA_name.replace('Tacoma, WA','Seattle-Tacoma-Bellevue, WA')\n",
    "crime_dic[2006].MSA_name = crime_dic[2006].MSA_name.replace('Wilmington, DE-MD-NJ','Philadelphia-Camden-Wilmington, PA-NJ-DE-MD')\n",
    "\n",
    "#need to find a way to replace this one with regular expressions\n",
    "#crime_dic[2006].MSA_name = crime_dic[2006].MSA_name.replace('Nashville-Davidsonî ºMurfreesboro-Franklin, TN','Nashville-Davidson--Murfreesboro, TN')\n",
    "#crime_dic[2006].MSA_name = crime_dic[2006].MSA_name.replace('Scrantonî ºWilkes-Barre, PA','Scranton--Wilkes-Barre, PA')\n",
    "\n",
    "#2007\n",
    "crime_dic[2007].MSA_name = crime_dic[2007].MSA_name.replace('Oakland-Fremont-Hayward, CA','San Francisco-Oakland-Fremont, CA')\n",
    "crime_dic[2007].MSA_name = crime_dic[2007].MSA_name.replace('Los Angeles-Long Beach-Glendale, CA','Los Angeles-Long Beach-Santa Ana, CA')\n",
    "crime_dic[2007].MSA_name = crime_dic[2007].MSA_name.replace('Bradenton-Sarasota-Venice, FL','Sarasota-Bradenton-Venice, FL')\n",
    "crime_dic[2007].MSA_name = crime_dic[2007].MSA_name.replace('Lakeland-Winter Haven, FL', 'Lakeland, FL')\n",
    "crime_dic[2007].MSA_name = crime_dic[2007].MSA_name.replace('Miami-Miami Beach-Kendall, FL','Miami-Fort Lauderdale-Pompano Beach, FL')\n",
    "crime_dic[2007].MSA_name = crime_dic[2007].MSA_name.replace('Louisville/Jefferson County, KY-IN','Louisville-Jefferson County, KY-IN')\n",
    "crime_dic[2007].MSA_name = crime_dic[2007].MSA_name.replace('Boston-Quincy, MA','Boston-Cambridge-Quincy, MA-NH')\n",
    "crime_dic[2007].MSA_name = crime_dic[2007].MSA_name.replace('Wilmington, DE-MD-NJ','Philadelphia-Camden-Wilmington, PA-NJ-DE-MD')\n",
    "crime_dic[2007].MSA_name = crime_dic[2007].MSA_name.replace('Detroit-Livonia-Dearborn, MI','Detroit-Warren-Livonia, MI')\n",
    "crime_dic[2007].MSA_name = crime_dic[2007].MSA_name.replace('Warren-Troy-Farmington Hills, MI','Detroit-Warren-Livonia, MI')\n",
    "crime_dic[2007].MSA_name = crime_dic[2007].MSA_name.replace('Atlantic City-Hammonton, NJ','Atlantic City, NJ')\n",
    "crime_dic[2007].MSA_name = crime_dic[2007].MSA_name.replace('Philadelphia, PA','Philadelphia-Camden-Wilmington, PA-NJ-DE-MD')\n",
    "crime_dic[2007].MSA_name = crime_dic[2007].MSA_name.replace('ScrantonÃÂ¢Ã¥ÃÃ¥ÃWilkes-Barre, PA','Scranton--Wilkes-Barre, PA')\n",
    "crime_dic[2007].MSA_name = crime_dic[2007].MSA_name.replace('Charleston-North Charleston-Summerville, SC','Charleston-North Charleston, SC')\n",
    "crime_dic[2007].MSA_name = crime_dic[2007].MSA_name.replace('Myrtle Beach-North Myrtle Beach-Conway, SC','Myrtle Beach-Conway-North Myrtle Beach, SC')\n",
    "crime_dic[2007].MSA_name = crime_dic[2007].MSA_name.replace('Nashville-DavidsonÃÂ¢Ã¥ÃÃ¥ÃMurfreesboroÃÂ¢Ã¥ÃÃ¥ÃFranklin, TN','Nashville-Davidson--Murfreesboro--Franklin, TN')\n",
    "crime_dic[2007].MSA_name = crime_dic[2007].MSA_name.replace('Dallas-Plano-Irving, TX','Dallas-Fort Worth-Arlington, TX')\n",
    "crime_dic[2007].MSA_name = crime_dic[2007].MSA_name.replace('Fort Worth-Arlington, TX','Dallas-Fort Worth-Arlington, TX')\n",
    "crime_dic[2007].MSA_name = crime_dic[2007].MSA_name.replace('Kennewick-Pasco-Richland, WA','Kennewick-Richland-Pasco, WA')\n",
    "crime_dic[2007].MSA_name = crime_dic[2007].MSA_name.replace('Seattle-Bellevue-Everett, WA','Seattle-Tacoma-Bellevue, WA')\n",
    "\n",
    "#2008\n",
    "crime_dic[2008].MSA_name = crime_dic[2008].MSA_name.replace('San Francisco-San Mateo-Redwood City, CA','San Francisco-Oakland-Fremont, CA')\n",
    "crime_dic[2008].MSA_name = crime_dic[2008].MSA_name.replace('Santa Ana-Anaheim-Irvine, CA','Los Angeles-Long Beach-Santa Ana, CA')\n",
    "crime_dic[2008].MSA_name = crime_dic[2008].MSA_name.replace('Madera-Chowchilla, CA','Madera, CA')\n",
    "crime_dic[2008].MSA_name = crime_dic[2008].MSA_name.replace('SacramentoÃÂ¢Ã¥ÃÃ¥ÃArden-ArcadeÃÂ¢Ã¥ÃÃ¥ÃRoseville, CA','Sacramento--Arden-Arcade--Roseville, CA')\n",
    "crime_dic[2008].MSA_name = crime_dic[2008].MSA_name.replace('Oakland-Fremont-Hayward, CA','San Francisco-Oakland-Fremont, CA')\n",
    "crime_dic[2008].MSA_name = crime_dic[2008].MSA_name.replace('Los Angeles-Long Beach-Glendale, CA','Los Angeles-Long Beach-Santa Ana, CA')\n",
    "crime_dic[2008].MSA_name = crime_dic[2008].MSA_name.replace('Denver-Aurora-Broomfield, CO','Denver-Aurora, CO')\n",
    "crime_dic[2008].MSA_name = crime_dic[2008].MSA_name.replace('Miami-Miami Beach-Kendall, FL','Miami-Fort Lauderdale-Pompano Beach, FL')\n",
    "crime_dic[2008].MSA_name = crime_dic[2008].MSA_name.replace('Panama City-Lynn Haven-Panama City Beach, FL','Panama City-Lynn Haven, FL')\n",
    "crime_dic[2008].MSA_name = crime_dic[2008].MSA_name.replace('Fort Lauderdale-Pompano Beach-Deerfield Beach, FL','Miami-Fort Lauderdale-Pompano Beach, FL')\n",
    "crime_dic[2008].MSA_name = crime_dic[2008].MSA_name.replace('Louisville/Jefferson County, KY-IN','Louisville-Jefferson County, KY-IN')\n",
    "crime_dic[2008].MSA_name = crime_dic[2008].MSA_name.replace('Boston-Quincy, MA','Boston-Cambridge-Quincy, MA-NH')\n",
    "crime_dic[2008].MSA_name = crime_dic[2008].MSA_name.replace('Durham-Chapel Hill, NC','Durham, NC')\n",
    "crime_dic[2008].MSA_name = crime_dic[2008].MSA_name.replace('New York-White Plains-Wayne, NY-NJ','New York-Northern New Jersey-Long Island, NY-NJ-PA')\n",
    "crime_dic[2008].MSA_name = crime_dic[2008].MSA_name.replace('Camden, NJ','Philadelphia-Camden-Wilmington, PA-NJ-DE-MD')\n",
    "crime_dic[2008].MSA_name = crime_dic[2008].MSA_name.replace('Wilmington, DE-MD-NJ','Philadelphia-Camden-Wilmington, PA-NJ-DE-MD')\n",
    "crime_dic[2008].MSA_name = crime_dic[2008].MSA_name.replace('ScrantonÃÂ¢Ã¥ÃÃ¥ÃWilkes-Barre, PA','Scranton--Wilkes-Barre, PA')\n",
    "crime_dic[2008].MSA_name = crime_dic[2008].MSA_name.replace('Philadelphia, PA','Philadelphia-Camden-Wilmington, PA-NJ-DE-MD')\n",
    "crime_dic[2008].MSA_name = crime_dic[2008].MSA_name.replace('Nashville-DavidsonÃÂ¢Ã¥ÃÃ¥Ã MurfreesboroÃÂ¢Ã¥ÃÃ¥ÃFranklin, TN','Nashville-Davidson--Murfreesboro--Franklin, TN')\n",
    "crime_dic[2008].MSA_name = crime_dic[2008].MSA_name.replace('Dallas-Plano-Irving, TX','Dallas-Fort Worth-Arlington, TX')\n",
    "crime_dic[2008].MSA_name = crime_dic[2008].MSA_name.replace('Fort Worth-Arlington, TX','Dallas-Fort Worth-Arlington, TX')\n",
    "crime_dic[2008].MSA_name = crime_dic[2008].MSA_name.replace('Wenatchee-East Wenatchee, WA','Wenatchee, WA')\n",
    "crime_dic[2008].MSA_name = crime_dic[2008].MSA_name.replace('Aguadilla-Isabela-San Sebastian, Puerto Rico','Aguadilla-Isabela-San Sebastián, Puerto Rico')\n",
    "crime_dic[2008].MSA_name = crime_dic[2008].MSA_name.replace('San German-Cabo Rojo, Puerto Rico','San Germán-Cabo Rojo, Puerto Rico')\n",
    "crime_dic[2008].MSA_name = crime_dic[2008].MSA_name.replace('Mayaguez, Puerto Rico','Mayagüez, Puerto Rico')\n",
    "\n",
    "#2009\n",
    "crime_dic[2009].MSA_name = crime_dic[2009].MSA_name.replace('Phoenix-Mesa-Glendale, AZ','Phoenix-Mesa-Scottsdale, AZ')\n",
    "crime_dic[2009].MSA_name = crime_dic[2009].MSA_name.replace('San Francisco-San Mateo-Redwood City, CA','San Francisco-Oakland-Fremont, CA')\n",
    "crime_dic[2009].MSA_name = crime_dic[2009].MSA_name.replace('SacramentoÃÂ¢Ã¥ÃÃ¥ÃArden-ArcadeÃÂ¢Ã¥ÃÃ¥Ã Roseville, CA','Sacramento--Arden-Arcade--Roseville, CA')\n",
    "crime_dic[2009].MSA_name = crime_dic[2009].MSA_name.replace('Bakersfield-Delano, CA','Bakersfield, CA')\n",
    "crime_dic[2009].MSA_name = crime_dic[2009].MSA_name.replace('Los Angeles-Long Beach-Glendale, CA','Los Angeles-Long Beach-Santa Ana, CA')\n",
    "crime_dic[2009].MSA_name = crime_dic[2009].MSA_name.replace('Oakland-Fremont-Hayward, CA','San Francisco-Oakland-Fremont, CA')\n",
    "crime_dic[2009].MSA_name = crime_dic[2009].MSA_name.replace('San Francisco-San Mateo-Redwood City, CA','San Francisco-Oakland-Fremont, CA')\n",
    "crime_dic[2009].MSA_name = crime_dic[2009].MSA_name.replace('Santa Ana-Anaheim-Irvine, CA','Los Angeles-Long Beach-Santa Ana, CA')\n",
    "crime_dic[2009].MSA_name = crime_dic[2009].MSA_name.replace('Crestview-Fort Walton Beach-Destin, FL','Fort Walton Beach-Crestview-Destin, FL')\n",
    "crime_dic[2009].MSA_name = crime_dic[2009].MSA_name.replace('Fort Lauderdale-Pompano Beach-Deerfield Beach, FL','Miami-Fort Lauderdale-Pompano Beach, FL')\n",
    "crime_dic[2009].MSA_name = crime_dic[2009].MSA_name.replace('Miami-Miami Beach-Kendall, FL','Miami-Fort Lauderdale-Pompano Beach, FL')\n",
    "crime_dic[2009].MSA_name = crime_dic[2009].MSA_name.replace('North Port-Bradenton-Sarasota, FL','Bradenton-Sarasota-Venice, FL')\n",
    "crime_dic[2009].MSA_name = crime_dic[2009].MSA_name.replace('Orlando-Kissimmee-Sanford, FL','Orlando-Kissimmee, FL')\n",
    "crime_dic[2009].MSA_name = crime_dic[2009].MSA_name.replace('Louisville/Jefferson County, KY-IN','Louisville-Jefferson County, KY-IN')\n",
    "crime_dic[2009].MSA_name = crime_dic[2009].MSA_name.replace('Boston-Quincy, MA','Boston-Cambridge-Quincy, MA-NH')\n",
    "crime_dic[2009].MSA_name = crime_dic[2009].MSA_name.replace('Cambridge-Newton-Framingham, MA','Boston-Cambridge-Quincy, MA-NH')\n",
    "crime_dic[2009].MSA_name = crime_dic[2009].MSA_name.replace('Wilmington, DE-MD-NJ','Philadelphia-Camden-Wilmington, PA-NJ-DE-MD')\n",
    "crime_dic[2009].MSA_name = crime_dic[2009].MSA_name.replace('Detroit-Livonia-Dearborn, MI','Detroit-Warren-Livonia, MI')\n",
    "crime_dic[2009].MSA_name = crime_dic[2009].MSA_name.replace('Warren-Troy-Farmington Hills, MI','Detroit-Warren-Livonia, MI')\n",
    "crime_dic[2009].MSA_name = crime_dic[2009].MSA_name.replace('New York-White Plains-Wayne, NY-NJ','New York-Northern New Jersey-Long Island, NY-NJ-PA')\n",
    "crime_dic[2009].MSA_name = crime_dic[2009].MSA_name.replace('Wilmington, DE-MD-NJ','Philadelphia-Camden-Wilmington, PA-NJ-DE-MD')\n",
    "crime_dic[2009].MSA_name = crime_dic[2009].MSA_name.replace('New York-White Plains-Wayne, NY-NJ','New York-Northern New Jersey-Long Island, NY-NJ-PA')\n",
    "crime_dic[2009].MSA_name = crime_dic[2009].MSA_name.replace('Philadelphia, PA','Philadelphia-Camden-Wilmington, PA-NJ-DE-MD')\n",
    "crime_dic[2009].MSA_name = crime_dic[2009].MSA_name.replace('ScrantonÃÂ¢Ã¥ÃÃ¥ÃWilkes-Barre, PA','Scranton--Wilkes-Barre, PA')\n",
    "crime_dic[2009].MSA_name = crime_dic[2009].MSA_name.replace('Charlotte-Gastonia-Rock Hill, NC-SC','Charlotte-Gastonia-Concord, NC-SC')\n",
    "crime_dic[2009].MSA_name = crime_dic[2009].MSA_name.replace('Nashville-DavidsonÃÂ¢Ã¥ÃÃ¥ÃMurfreesboroÃÂ¢Ã¥ÃÃ¥Ã Franklin, TN','Nashville-Davidson--Murfreesboro--Franklin, TN')\n",
    "crime_dic[2009].MSA_name = crime_dic[2009].MSA_name.replace('Austin-Round Rock-San Marcos, TX','Austin-Round Rock, TX')\n",
    "crime_dic[2009].MSA_name = crime_dic[2009].MSA_name.replace('Dallas-Plano-Irving, TX','Dallas-Fort Worth-Arlington, TX')\n",
    "crime_dic[2009].MSA_name = crime_dic[2009].MSA_name.replace('Fort Worth-Arlington, TX','Dallas-Fort Worth-Arlington, TX')\n",
    "crime_dic[2009].MSA_name = crime_dic[2009].MSA_name.replace('San Antonio-New Braunfels, TX','San Antonio, TX')\n",
    "crime_dic[2009].MSA_name = crime_dic[2009].MSA_name.replace('Portland-Vancouver-Hillsboro, OR-WA','Portland-Vancouver-Beaverton, OR-WA')\n",
    "crime_dic[2009].MSA_name = crime_dic[2009].MSA_name.replace('Seattle-Bellevue-Everett, WA','Seattle-Tacoma-Bellevue, WA')\n",
    "crime_dic[2009].MSA_name = crime_dic[2009].MSA_name.replace('Tacoma, WA','Seattle-Tacoma-Bellevue, WA')\n",
    "crime_dic[2009].MSA_name = crime_dic[2009].MSA_name.replace('Aguadilla-Isabela-San Sebastian, Puerto Rico','Aguadilla-Isabela-San Sebastián, Puerto Rico')\n",
    "crime_dic[2009].MSA_name = crime_dic[2009].MSA_name.replace('Mayaguez, Puerto Rico','Mayagüez, Puerto Rico')\n",
    "crime_dic[2009].MSA_name = crime_dic[2009].MSA_name.replace('San German-Cabo Rojo, Puerto Rico','San Germán-Cabo Rojo, Puerto Rico')\n",
    "\n",
    "\n",
    "#2010\n",
    "crime_dic[2010].MSA_name = crime_dic[2010].MSA_name.replace('Los Angeles-Long Beach-Glendale, CA','Los Angeles-Long Beach-Santa Ana, CA')\n",
    "crime_dic[2010].MSA_name = crime_dic[2010].MSA_name.replace('Oakland-Fremont-Hayward, CA','San Francisco-Oakland-Fremont, CA')\n",
    "crime_dic[2010].MSA_name = crime_dic[2010].MSA_name.replace('Sacramentoâ°ÃÃArden-Arcadeâ°ÃÃRoseville, CA','Sacramento--Arden-Arcade--Roseville, CA')\n",
    "crime_dic[2010].MSA_name = crime_dic[2010].MSA_name.replace('San Francisco-San Mateo-Redwood City, CA','San Francisco-Oakland-Fremont, CA')\n",
    "crime_dic[2010].MSA_name = crime_dic[2010].MSA_name.replace('Santa Ana-Anaheim-Irvine, CA','Los Angeles-Long Beach-Santa Ana, CA')\n",
    "crime_dic[2010].MSA_name = crime_dic[2010].MSA_name.replace('Fort Lauderdale-Pompano Beach-Deerfield Beach, FL','Miami-Fort Lauderdale-Pompano Beach, FL')\n",
    "crime_dic[2010].MSA_name = crime_dic[2010].MSA_name.replace('Miami-Miami Beach-Kendall, FL','Miami-Fort Lauderdale-Pompano Beach, FL')\n",
    "crime_dic[2010].MSA_name = crime_dic[2010].MSA_name.replace('Boston-Quincy, MA','Boston-Cambridge-Quincy, MA-NH')\n",
    "crime_dic[2010].MSA_name = crime_dic[2010].MSA_name.replace('Wilmington, DE-MD-NJ','Philadelphia-Camden-Wilmington, PA-NJ-DE-MD')\n",
    "crime_dic[2010].MSA_name = crime_dic[2010].MSA_name.replace('Detroit-Livonia-Dearborn, MI','Detroit-Warren-Livonia, MI')\n",
    "crime_dic[2010].MSA_name = crime_dic[2010].MSA_name.replace('Warren-Troy-Farmington Hills, MI','Detroit-Warren-Livonia, MI')\n",
    "crime_dic[2010].MSA_name = crime_dic[2010].MSA_name.replace('Camden, NJ','Philadelphia-Camden-Wilmington, PA-NJ-DE-MD')\n",
    "crime_dic[2010].MSA_name = crime_dic[2010].MSA_name.replace('Wilmington, DE-MD-NJ','Philadelphia-Camden-Wilmington, PA-NJ-DE-MD')\n",
    "crime_dic[2010].MSA_name = crime_dic[2010].MSA_name.replace('New York-White Plains-Wayne, NY-NJ','New York-Northern New Jersey-Long Island, NY-NJ-PA')\n",
    "crime_dic[2010].MSA_name = crime_dic[2010].MSA_name.replace('Philadelphia, PA','Philadelphia-Camden-Wilmington, PA-NJ-DE-MD')\n",
    "crime_dic[2010].MSA_name = crime_dic[2010].MSA_name.replace('Scrantonâ°ÃÃWilkes-Barre, PA','Scranton--Wilkes-Barre, PA')\n",
    "crime_dic[2010].MSA_name = crime_dic[2010].MSA_name.replace('Nashville-Davidsonâ°ÃÃMurfreesboroâ°ÃÃFranklin, TN','Nashville-Davidson--Murfreesboro--Franklin, TN')\n",
    "crime_dic[2010].MSA_name = crime_dic[2010].MSA_name.replace('Dallas-Plano-Irving, TX','Dallas-Fort Worth-Arlington, TX')\n",
    "crime_dic[2010].MSA_name = crime_dic[2010].MSA_name.replace('Fort Worth-Arlington, TX','Dallas-Fort Worth-Arlington, TX')\n",
    "crime_dic[2010].MSA_name = crime_dic[2010].MSA_name.replace('Tacoma, WA','Seattle-Tacoma-Bellevue, WA')\n",
    "\n",
    "#2011\n",
    "crime_dic[2011].MSA_name = crime_dic[2011].MSA_name.replace('Los Angeles-Long Beach-Glendale, CA','Los Angeles-Long Beach-Santa Ana, CA')\n",
    "crime_dic[2011].MSA_name = crime_dic[2011].MSA_name.replace('Oakland-Fremont-Hayward, CA','San Francisco-Oakland-Fremont, CA')\n",
    "crime_dic[2011].MSA_name = crime_dic[2011].MSA_name.replace('Sacramento-Arden-Arcade-Roseville, CA','Sacramento--Arden-Arcade--Roseville, CA')\n",
    "crime_dic[2011].MSA_name = crime_dic[2011].MSA_name.replace('San Francisco-San Mateo-Redwood City, CA','San Francisco-Oakland-Fremont, CA')\n",
    "crime_dic[2011].MSA_name = crime_dic[2011].MSA_name.replace('Santa Ana-Anaheim-Irvine, CA','Los Angeles-Long Beach-Santa Ana, CA')\n",
    "crime_dic[2011].MSA_name = crime_dic[2011].MSA_name.replace('Fort Lauderdale-Pompano Beach-Deerfield Beach, FL','Miami-Fort Lauderdale-Pompano Beach, FL')\n",
    "crime_dic[2011].MSA_name = crime_dic[2011].MSA_name.replace('Miami-Miami Beach-Kendall, FL','Miami-Fort Lauderdale-Pompano Beach, FL')\n",
    "crime_dic[2011].MSA_name = crime_dic[2011].MSA_name.replace('Chicago-Joilet-Naperville, IL','Chicago-Joliet-Naperville, IL-IN-WI')\n",
    "crime_dic[2011].MSA_name = crime_dic[2011].MSA_name.replace('Houma-Bayou Caneâ°ÃÃThibodaux, LA','Houma-Bayou Cane-Thibodaux, LA')\n",
    "crime_dic[2011].MSA_name = crime_dic[2011].MSA_name.replace('Boston-Quincy, MA','Boston-Cambridge-Quincy, MA-NH')\n",
    "crime_dic[2011].MSA_name = crime_dic[2011].MSA_name.replace('Wilmington, DE-MD-NJ','Philadelphia-Camden-Wilmington, PA-NJ-DE-MD')\n",
    "crime_dic[2011].MSA_name = crime_dic[2011].MSA_name.replace('Detroit-Livonia-Dearborn, MI','Detroit-Warren-Livonia, MI')\n",
    "crime_dic[2011].MSA_name = crime_dic[2011].MSA_name.replace('Warren-Troy-Farmington Hills, MI','Detroit-Warren-Livonia, MI')\n",
    "crime_dic[2011].MSA_name = crime_dic[2011].MSA_name.replace('Camden, NJ','Philadelphia-Camden-Wilmington, PA-NJ-DE-MD')\n",
    "crime_dic[2011].MSA_name = crime_dic[2011].MSA_name.replace('New York-White Plains-Wayne, NY-NJ','New York-Northern New Jersey-Long Island, NY-NJ-PA')\n",
    "crime_dic[2011].MSA_name = crime_dic[2011].MSA_name.replace('Philadelphia, PA','Philadelphia-Camden-Wilmington, PA-NJ-DE-MD')\n",
    "crime_dic[2011].MSA_name = crime_dic[2011].MSA_name.replace('Scranton-Wilkes-Barre, PA','Scranton--Wilkes-Barre, PA')\n",
    "crime_dic[2011].MSA_name = crime_dic[2011].MSA_name.replace('Nashville-Davidson-Murfreesboro-Franklin, TN','Nashville-Davidson--Murfreesboro--Franklin, TN')\n",
    "crime_dic[2011].MSA_name = crime_dic[2011].MSA_name.replace('Dallas-Plano-Irving, TX','Dallas-Fort Worth-Arlington, TX')\n",
    "crime_dic[2011].MSA_name = crime_dic[2011].MSA_name.replace('Fort Worth-Arlington, TX','Dallas-Fort Worth-Arlington, TX')\n",
    "crime_dic[2011].MSA_name = crime_dic[2011].MSA_name.replace('Seattleâ°ÃÃBellevue-Everett, WA','Seattle-Tacoma-Bellevue, WA')\n",
    "crime_dic[2011].MSA_name = crime_dic[2011].MSA_name.replace('Aguadilla-Isabela-San Sebastian, Puerto Rico','Aguadilla-Isabela-San Sebastián, Puerto Rico')\n",
    "crime_dic[2011].MSA_name = crime_dic[2011].MSA_name.replace('Mayaguez, Puerto Rico','Mayagüez, Puerto Rico')\n",
    "crime_dic[2011].MSA_name = crime_dic[2011].MSA_name.replace('San German-Cabo Rojo, Puerto Rico','San Germán-Cabo Rojo, Puerto Rico')\n",
    "\n",
    "#2012\n",
    "crime_dic[2012].MSA_name = crime_dic[2012].MSA_name.replace('Anniston-Oxford-Jacksonville, AL','Anniston-Oxford, AL')\n",
    "crime_dic[2012].MSA_name = crime_dic[2012].MSA_name.replace('Texarkana, TX-AR','Texarkana, TX-Texarkana, AR')\n",
    "crime_dic[2012].MSA_name = crime_dic[2012].MSA_name.replace('Phoenix-Mesa-Scottsdale, AZ','Phoenix-Mesa-Glendale, AZ')\n",
    "crime_dic[2012].MSA_name = crime_dic[2012].MSA_name.replace('Anaheim-Santa Ana-Irvine, CA','Los Angeles-Long Beach-Santa Ana, CA')\n",
    "crime_dic[2012].MSA_name = crime_dic[2012].MSA_name.replace('Bakersfield, CA','Bakersfield-Delano, CA')\n",
    "crime_dic[2012].MSA_name = crime_dic[2012].MSA_name.replace('Madera, CA','Madera-Chowchilla, CA')\n",
    "crime_dic[2012].MSA_name = crime_dic[2012].MSA_name.replace('Oakland-Hayward-Berkeley, CA','San Francisco-Oakland-Fremont, CA')\n",
    "crime_dic[2012].MSA_name = crime_dic[2012].MSA_name.replace('Los Angeles-Long Beach-Glendale, CA','Los Angeles-Long Beach-Santa Ana, CA')\n",
    "crime_dic[2012].MSA_name = crime_dic[2012].MSA_name.replace('Los Angeles-Long Beach-Glendale, CA','Los Angeles-Long Beach-Santa Ana, CA')\n",
    "crime_dic[2012].MSA_name = crime_dic[2012].MSA_name.replace('Sacramento--Roseville--Arden-Arcade, CA','Sacramento--Arden-Arcade--Roseville, CA')\n",
    "crime_dic[2012].MSA_name = crime_dic[2012].MSA_name.replace('San Diego-Carlsbad, CA','San Diego-Carlsbad-San Marcos, CA')\n",
    "crime_dic[2012].MSA_name = crime_dic[2012].MSA_name.replace('San Francisco-Oakland-Hayward, CA','San Francisco-Oakland-Fremont, CA')\n",
    "crime_dic[2012].MSA_name = crime_dic[2012].MSA_name.replace('San Francisco-Redwood City-South San Francisco, CA','San Francisco-Oakland-Fremont, CA')\n",
    "crime_dic[2012].MSA_name = crime_dic[2012].MSA_name.replace('San Luis Obispo-Paso Robles-Arroyo Grande, CA','San Luis Obispo-Paso Robles, CA')\n",
    "crime_dic[2012].MSA_name = crime_dic[2012].MSA_name.replace('Santa Maria-Santa Barbara, CA','Santa Barbara-Santa Maria-Goleta, CA')\n",
    "crime_dic[2012].MSA_name = crime_dic[2012].MSA_name.replace('Santa Rosa, CA','Santa Rosa-Petaluma, CA')\n",
    "crime_dic[2012].MSA_name = crime_dic[2012].MSA_name.replace('Stockton-Lodi, CA','Stockton, CA')\n",
    "crime_dic[2012].MSA_name = crime_dic[2012].MSA_name.replace('Denver-Aurora-Lakewood, CO','Denver-Aurora-Broomfield, CO')\n",
    "crime_dic[2012].MSA_name = crime_dic[2012].MSA_name.replace('Fort Collins-Loveland, CO','Fort Collins, CO')\n",
    "crime_dic[2012].MSA_name = crime_dic[2012].MSA_name.replace('Worcester, MA-CT','Worcester, MA')\n",
    "crime_dic[2012].MSA_name = crime_dic[2012].MSA_name.replace('Boston-Cambridge-Newton, MA-NH','Boston-Cambridge-Quincy, MA-NH')\n",
    "crime_dic[2012].MSA_name = crime_dic[2012].MSA_name.replace('Fort Lauderdale-Pompano Beach-Deerfield Beach, FL','Miami-Fort Lauderdale-Pompano Beach, FL')\n",
    "crime_dic[2012].MSA_name = crime_dic[2012].MSA_name.replace('Miami-Miami Beach-Kendall, FL','Miami-Fort Lauderdale-Pompano Beach, FL')\n",
    "crime_dic[2012].MSA_name = crime_dic[2012].MSA_name.replace('Naples-Immokalee-Marco Island, FL','Naples-Marco Island, FL')\n",
    "crime_dic[2012].MSA_name = crime_dic[2012].MSA_name.replace('Panama City, FL','Panama City-Lynn Haven-Panama City Beach, FL')\n",
    "crime_dic[2012].MSA_name = crime_dic[2012].MSA_name.replace('Atlanta-Sandy Springs-Roswell, GA','Atlanta-Sandy Springs-Marietta, GA')\n",
    "crime_dic[2012].MSA_name = crime_dic[2012].MSA_name.replace('Hinesville, GA','Hinesville-Fort Stewart, GA')\n",
    "crime_dic[2012].MSA_name = crime_dic[2012].MSA_name.replace('Kahului-Wailuku-Lahaina, HI','Kahului-Wailuku, HI')\n",
    "crime_dic[2012].MSA_name = crime_dic[2012].MSA_name.replace('Boise City, ID','Boise City-Nampa, ID')\n",
    "crime_dic[2012].MSA_name = crime_dic[2012].MSA_name.replace('Bloomington, IL','Bloomington-Normal, IL')\n",
    "crime_dic[2012].MSA_name = crime_dic[2012].MSA_name.replace('Cape Girardeau, MO-IL','Cape Girardeau-Jackson, MO-IL')\n",
    "crime_dic[2012].MSA_name = crime_dic[2012].MSA_name.replace('Chicago-Naperville-Arlington Heights, IL','Chicago-Joliet-Naperville, IL-IN-WI')\n",
    "crime_dic[2012].MSA_name = crime_dic[2012].MSA_name.replace('Elgin, IL','Chicago-Joliet-Naperville, IL-IN-WI')\n",
    "crime_dic[2012].MSA_name = crime_dic[2012].MSA_name.replace('Kankakee, IL','Kankakee-Bradley, IL')\n",
    "crime_dic[2012].MSA_name = crime_dic[2012].MSA_name.replace('Cincinnati, OH-KY-IN','Cincinnati-Middletown, OH-KY-IN')\n",
    "crime_dic[2012].MSA_name = crime_dic[2012].MSA_name.replace('Indianapolis-Carmel-Anderson, IN','Indianapolis-Carmel-Anderson, IN')\n",
    "crime_dic[2012].MSA_name = crime_dic[2012].MSA_name.replace('Lafayette-West Lafayette, IN','Lafayette, IN')\n",
    "crime_dic[2012].MSA_name = crime_dic[2012].MSA_name.replace('Chicago-Naperville-Elgin, IL-IN-WI','Chicago-Joliet-Naperville, IL-IN-WI')\n",
    "crime_dic[2012].MSA_name = crime_dic[2012].MSA_name.replace('New York-Jersey City-White Plains, NY-NJ,','New York-Newark-Jersey City, NY-NJ-PA')\n",
    "crime_dic[2012].MSA_name = crime_dic[2012].MSA_name.replace('Cincinnati, OH-KY-IN','Cincinnati-Middletown, OH-KY-IN')\n",
    "crime_dic[2012].MSA_name = crime_dic[2012].MSA_name.replace('Elizabethtown-Fort Knox, KY','Elizabethtown, KY')\n",
    "crime_dic[2012].MSA_name = crime_dic[2012].MSA_name.replace('Houma-Thibodaux, LA','Houma-Bayou Cane-Thibodaux, LA')\n",
    "crime_dic[2012].MSA_name = crime_dic[2012].MSA_name.replace('New Orleans-Metairie, LA','New Orleans-Metairie-Kenner, LA')\n",
    "crime_dic[2012].MSA_name = crime_dic[2012].MSA_name.replace('Worcester, MA-CT','Worcester, MA')\n",
    "crime_dic[2012].MSA_name = crime_dic[2012].MSA_name.replace('Boston, MA','Boston-Cambridge-Quincy, MA-NH')\n",
    "crime_dic[2012].MSA_name = crime_dic[2012].MSA_name.replace('Cambridge-Newton-Framingham, MA','Boston-Cambridge-Quincy, MA-NH')\n",
    "crime_dic[2012].MSA_name = crime_dic[2012].MSA_name.replace('Boston-Cambridge-Newton, MA-NH','Boston-Cambridge-Quincy, MA-NH')\n",
    "crime_dic[2012].MSA_name = crime_dic[2012].MSA_name.replace('Providence-Warwick, RI-MA','Providence-New Bedford-Fall River, RI-MA')\n",
    "crime_dic[2012].MSA_name = crime_dic[2012].MSA_name.replace('Salisbury, MD-DE','Salisbury, MD')\n",
    "crime_dic[2012].MSA_name = crime_dic[2012].MSA_name.replace('Baltimore-Columbia-Towson, MD','Baltimore-Towson, MD')\n",
    "crime_dic[2012].MSA_name = crime_dic[2012].MSA_name.replace('California-Lexington Park, MD','Lexington Park, MD')\n",
    "crime_dic[2012].MSA_name = crime_dic[2012].MSA_name.replace('Wilmington, DE-MD-NJ','Philadelphia-Camden-Wilmington, PA-NJ-DE-MD')\n",
    "crime_dic[2012].MSA_name = crime_dic[2012].MSA_name.replace('Portland-South Portland, ME','Portland-South Portland-Biddeford, ME')\n",
    "crime_dic[2012].MSA_name = crime_dic[2012].MSA_name.replace('Detroit-Dearborn-Livonia, MI','Detroit-Warren-Livonia, MI')\n",
    "crime_dic[2012].MSA_name = crime_dic[2012].MSA_name.replace('Detroit-Warren-Dearborn, MI','Detroit-Warren-Livonia, MI')\n",
    "crime_dic[2012].MSA_name = crime_dic[2012].MSA_name.replace('Warren-Troy-Farmington Hills, MI','Detroit-Warren-Livonia, MI')\n",
    "crime_dic[2012].MSA_name = crime_dic[2012].MSA_name.replace('La Crosse-Onalaska, WI-MN','La Crosse, WI-MN')\n",
    "crime_dic[2012].MSA_name = crime_dic[2012].MSA_name.replace('Raleigh, NC','Raleigh-Cary, NC')\n",
    "crime_dic[2012].MSA_name = crime_dic[2012].MSA_name.replace('Camden, NJ','Philadelphia-Camden-Wilmington, PA-NJ-DE-MD')\n",
    "crime_dic[2012].MSA_name = crime_dic[2012].MSA_name.replace('Trenton, NJ','Trenton-Ewing, NJ')\n",
    "crime_dic[2012].MSA_name = crime_dic[2012].MSA_name.replace('Vineland-Bridgeton, NJ','Vineland-Millville-Bridgeton, NJ')\n",
    "crime_dic[2012].MSA_name = crime_dic[2012].MSA_name.replace('Wilmington, DE-MD-NJ','Philadelphia-Camden-Wilmington, PA-NJ-DE-MD')\n",
    "crime_dic[2012].MSA_name = crime_dic[2012].MSA_name.replace('New York-Newark-Jersey City, NY-NJ-PA','New York-Northern New Jersey-Long Island, NY-NJ-PA')\n",
    "crime_dic[2012].MSA_name = crime_dic[2012].MSA_name.replace('Newark, NJ-PA','New York-Northern New Jersey-Long Island, NY-NJ-PA')\n",
    "crime_dic[2012].MSA_name = crime_dic[2012].MSA_name.replace('Las Vegas-Henderson-Paradise, NV','Las Vegas-Paradise, NV')\n",
    "crime_dic[2012].MSA_name = crime_dic[2012].MSA_name.replace('Reno, NV','Reno-Sparks, NV')\n",
    "crime_dic[2012].MSA_name = crime_dic[2012].MSA_name.replace('Buffalo-Cheektowaga-Niagara Falls, NY','Buffalo-Niagara Falls, NY')\n",
    "crime_dic[2012].MSA_name = crime_dic[2012].MSA_name.replace('New York-Newark-Jersey City, NY-NJ-PA','New York-Northern New Jersey-Long Island, NY-NJ-PA')\n",
    "crime_dic[2012].MSA_name = crime_dic[2012].MSA_name.replace('Albany, OR','Albany-Lebanon, OR')\n",
    "crime_dic[2012].MSA_name = crime_dic[2012].MSA_name.replace('Eugene, OR','Eugene-Springfield, OR')\n",
    "crime_dic[2012].MSA_name = crime_dic[2012].MSA_name.replace('Philadelphia, PA, 6','Philadelphia-Camden-Wilmington, PA-NJ-DE-MD')\n",
    "crime_dic[2012].MSA_name = crime_dic[2012].MSA_name.replace('Chambersburg-Waynesboro, PA','Chambersburg, PA')\n",
    "crime_dic[2012].MSA_name = crime_dic[2012].MSA_name.replace('Scranton--Wilkes-Barre--Hazleton, PA','Scranton--Wilkes-Barre, PA')\n",
    "crime_dic[2012].MSA_name = crime_dic[2012].MSA_name.replace('Charleston-North Charleston, SC','Charleston-North Charleston-Summerville, SC')\n",
    "crime_dic[2012].MSA_name = crime_dic[2012].MSA_name.replace('Greenville-Anderson-Mauldin, SC','Greenville-Mauldin-Easley, SC')\n",
    "crime_dic[2012].MSA_name = crime_dic[2012].MSA_name.replace('Hilton Head Island-Bluffton-Beaufort, SC','Hilton Head Island-Beaufort, SC')\n",
    "crime_dic[2012].MSA_name = crime_dic[2012].MSA_name.replace('Austin-Round Rock, TX','Austin-Round Rock-San Marcos, TX')\n",
    "crime_dic[2012].MSA_name = crime_dic[2012].MSA_name.replace('Dallas-Plano-Irving, TX','Dallas-Fort Worth-Arlington, TX')\n",
    "crime_dic[2012].MSA_name = crime_dic[2012].MSA_name.replace('Houston-The Woodlands-Sugar Land, TX','Houston-Sugar Land-Baytown, TX')\n",
    "crime_dic[2012].MSA_name = crime_dic[2012].MSA_name.replace('Killeen-Temple, TX','Killeen-Temple-Fort Hood, TX')\n",
    "crime_dic[2012].MSA_name = crime_dic[2012].MSA_name.replace('Kennewick-Richland, WA','Kennewick-Pasco-Richland, WA')\n",
    "crime_dic[2012].MSA_name = crime_dic[2012].MSA_name.replace('Olympia-Tumwater, WA','Olympia, WA')\n",
    "crime_dic[2012].MSA_name = crime_dic[2012].MSA_name.replace('Seattle-Bellevue-Everett, WA','Seattle-Tacoma-Bellevue, WA')\n",
    "crime_dic[2012].MSA_name = crime_dic[2012].MSA_name.replace('Spokane-Spokane Valley, WA','Spokane, WA')\n",
    "crime_dic[2012].MSA_name = crime_dic[2012].MSA_name.replace('Tacoma-Lakewood, WA','Seattle-Tacoma-Bellevue, WA')\n",
    "crime_dic[2012].MSA_name = crime_dic[2012].MSA_name.replace('Janesville-Beloit, WI','Janesville, WI')\n",
    "crime_dic[2012].MSA_name = crime_dic[2012].MSA_name.replace('Parkersburg-Vienna, WV','Parkersburg-Marietta-Vienna, WV-OH')\n",
    "crime_dic[2012].MSA_name = crime_dic[2012].MSA_name.replace('Aguadilla-Isabela, Puerto Rico','Aguadilla-Isabela-San Sebastián, Puerto Rico')\n",
    "crime_dic[2012].MSA_name = crime_dic[2012].MSA_name.replace('Mayaguez, Puerto Rico','Mayagüez, Puerto Rico')\n",
    "crime_dic[2012].MSA_name = crime_dic[2012].MSA_name.replace('San German, Puerto Rico','San Germán-Cabo Rojo, Puerto Rico')\n",
    "crime_dic[2012].MSA_name = crime_dic[2012].MSA_name.replace('San Juan-Carolina-Caguas, Puerto Rico','San Juan-Caguas-Guaynabo, Puerto Rico')\n",
    "\n",
    "#2013\n",
    "crime_dic[2013].MSA_name = crime_dic[2013].MSA_name.replace('Anaheim-Santa Ana-Irvine, CA','Los Angeles-Long Beach-Anaheim, CA')\n",
    "crime_dic[2013].MSA_name = crime_dic[2013].MSA_name.replace('Los Angeles-Long Beach-Glendale, CA','Los Angeles-Long Beach-Anaheim, CA')\n",
    "crime_dic[2013].MSA_name = crime_dic[2013].MSA_name.replace('Oakland-Hayward-Berkeley, CA','San Francisco-Oakland-Hayward, CA')\n",
    "crime_dic[2013].MSA_name = crime_dic[2013].MSA_name.replace('Sacramentoâ°ÃÃRosevilleâ°ÃÃArden-Arcade, CA','Sacramento--Roseville--Arden-Arcade, CA')\n",
    "crime_dic[2013].MSA_name = crime_dic[2013].MSA_name.replace('San Francisco-Redwood City-South San Francisco, CA','San Francisco-Oakland-Hayward, CA')\n",
    "crime_dic[2013].MSA_name = crime_dic[2013].MSA_name.replace('Fort Lauderdale-Pompano Beach-Deerfield Beach, FL','Miami-Fort Lauderdale-West Palm Beach, FL')\n",
    "crime_dic[2013].MSA_name = crime_dic[2013].MSA_name.replace('Miami-Miami Beach-Kendall, FL','Miami-Fort Lauderdale-West Palm Beach, FL')\n",
    "crime_dic[2013].MSA_name = crime_dic[2013].MSA_name.replace('Elgin, IL','Chicago-Naperville-Elgin, IL-IN-WI')\n",
    "crime_dic[2013].MSA_name = crime_dic[2013].MSA_name.replace('Boston, MA','Boston-Cambridge-Newton, MA-NH')\n",
    "crime_dic[2013].MSA_name = crime_dic[2013].MSA_name.replace('Cambridge-Newton-Framingham, MA','Boston-Cambridge-Newton, MA-NH')\n",
    "crime_dic[2013].MSA_name = crime_dic[2013].MSA_name.replace('Wilmington, DE-MD-NJ','Philadelphia-Camden-Wilmington, PA-NJ-DE-MD')\n",
    "crime_dic[2013].MSA_name = crime_dic[2013].MSA_name.replace('Warren-Troy-Farmington Hills, MI','Detroit-Warren-Dearborn, MI')\n",
    "crime_dic[2013].MSA_name = crime_dic[2013].MSA_name.replace('Detroit-Dearborn-Livonia, MI','Detroit-Warren-Dearborn, MI')\n",
    "crime_dic[2013].MSA_name = crime_dic[2013].MSA_name.replace('Camden, NJ','Philadelphia-Camden-Wilmington, PA-NJ-DE-MD')\n",
    "crime_dic[2013].MSA_name = crime_dic[2013].MSA_name.replace('New York-Jersey City-White Plains, NY-NJ','New York-Newark-Jersey City, NY-NJ-PA')\n",
    "crime_dic[2013].MSA_name = crime_dic[2013].MSA_name.replace('Wilmington, DE-MD-NJ','Philadelphia-Camden-Wilmington, PA-NJ-DE-MD')\n",
    "crime_dic[2013].MSA_name = crime_dic[2013].MSA_name.replace('Newark, NJ-PA','New York-Newark-Jersey City, NY-NJ-PA')\n",
    "crime_dic[2013].MSA_name = crime_dic[2013].MSA_name.replace('Philadelphia, PA','Philadelphia-Camden-Wilmington, PA-NJ-DE-MD')\n",
    "crime_dic[2013].MSA_name = crime_dic[2013].MSA_name.replace('Scrantonâ°ÃÃWilkes-Barreâ°ÃÃHazleton, PA','Scranton--Wilkes-Barre--Hazleton, PA')\n",
    "crime_dic[2013].MSA_name = crime_dic[2013].MSA_name.replace('Nashville-Davidsonâ°ÃÃMurfreesboroâ°ÃÃFranklin, TN','Nashville-Davidson--Murfreesboro--Franklin, TN')\n",
    "crime_dic[2013].MSA_name = crime_dic[2013].MSA_name.replace('Dallas-Plano-Irving, TX','Dallas-Fort Worth-Arlington, TX')\n",
    "crime_dic[2013].MSA_name = crime_dic[2013].MSA_name.replace('Fort Worth-Arlington, TX','Fort Worth-Arlington, TX')\n",
    "crime_dic[2013].MSA_name = crime_dic[2013].MSA_name.replace('Seattle-Bellevue-Everett, WA','Seattle-Tacoma-Bellevue, WA')\n",
    "crime_dic[2013].MSA_name = crime_dic[2013].MSA_name.replace('Tacoma-Lakewood, WA','Seattle-Tacoma-Bellevue, WA')\n",
    "crime_dic[2013].MSA_name = crime_dic[2013].MSA_name.replace('Mayaguez, Puerto Rico','Mayagüez, Puerto Rico')\n",
    "crime_dic[2013].MSA_name = crime_dic[2013].MSA_name.replace('San German, Puerto Rico','San Germán, Puerto Rico')\n",
    "\n",
    "#2014\n",
    "crime_dic[2014].MSA_name = crime_dic[2014].MSA_name.replace('Anaheim-Santa Ana-Irvine, CA','Los Angeles-Long Beach-Anaheim, CA')\n",
    "crime_dic[2014].MSA_name = crime_dic[2014].MSA_name.replace('Los Angeles-Long Beach-Glendale, CA','Los Angeles-Long Beach-Anaheim, CA')\n",
    "crime_dic[2014].MSA_name = crime_dic[2014].MSA_name.replace('Oakland-Hayward-Berkeley, CA','San Francisco-Oakland-Hayward, CA')\n",
    "crime_dic[2014].MSA_name = crime_dic[2014].MSA_name.replace('Sacramentoâ°ÃÃRosevilleâ°ÃÃArden-Arcade, CA','Sacramento--Roseville--Arden-Arcade, CA')\n",
    "crime_dic[2014].MSA_name = crime_dic[2014].MSA_name.replace('San Francisco-Redwood City-South San Francisco, CA','San Francisco-Oakland-Hayward, CA')\n",
    "crime_dic[2014].MSA_name = crime_dic[2014].MSA_name.replace('Fort Lauderdale-Pompano Beach-Deerfield Beach, FL','Miami-Fort Lauderdale-West Palm Beach, FL')\n",
    "crime_dic[2014].MSA_name = crime_dic[2014].MSA_name.replace('Miami-Miami Beach-Kendall, FL','Miami-Fort Lauderdale-West Palm Beach, FL')\n",
    "crime_dic[2014].MSA_name = crime_dic[2014].MSA_name.replace('Chicago-Naperville-Arlington Heights, IL','Chicago-Naperville-Arlington Heights, IL')\n",
    "crime_dic[2014].MSA_name = crime_dic[2014].MSA_name.replace('Elgin, IL','Chicago-Naperville-Elgin, IL-IN-WI')\n",
    "crime_dic[2014].MSA_name = crime_dic[2014].MSA_name.replace('Wilmington, DE-MD-NJ','Philadelphia-Camden-Wilmington, PA-NJ-DE-MD')\n",
    "crime_dic[2014].MSA_name = crime_dic[2014].MSA_name.replace('Detroit-Dearborn-Livonia, MI','Detroit-Warren-Dearborn, MI')\n",
    "crime_dic[2014].MSA_name = crime_dic[2014].MSA_name.replace('Warren-Troy-Farmington Hills, MI','Detroit-Warren-Dearborn, MI')\n",
    "crime_dic[2014].MSA_name = crime_dic[2014].MSA_name.replace('Camden, NJ','Philadelphia-Camden-Wilmington, PA-NJ-DE-MD')\n",
    "crime_dic[2014].MSA_name = crime_dic[2014].MSA_name.replace('New York-Jersey City-White Plains, NY-NJ','New York-Newark-Jersey City, NY-NJ-PA')\n",
    "crime_dic[2014].MSA_name = crime_dic[2014].MSA_name.replace('Newark, NJ-PA','New York-Newark-Jersey City, NY-NJ-PA')\n",
    "crime_dic[2014].MSA_name = crime_dic[2014].MSA_name.replace('New York-Jersey City-White Plains, NY-NJ','New York-Newark-Jersey City, NY-NJ-PA')\n",
    "crime_dic[2014].MSA_name = crime_dic[2014].MSA_name.replace('Philadelphia, PA','Philadelphia-Camden-Wilmington, PA-NJ-DE-MD')\n",
    "crime_dic[2014].MSA_name = crime_dic[2014].MSA_name.replace('Scrantonâ°ÃÃWilkes-Barreâ°ÃÃHazleton, PA','Scranton--Wilkes-Barre--Hazleton, PA')\n",
    "crime_dic[2014].MSA_name = crime_dic[2014].MSA_name.replace('Nashville-Davidsonâ°ÃÃMurfreesboroâ°ÃÃFranklin, TN','Nashville-Davidson--Murfreesboro--Franklin, TN')\n",
    "crime_dic[2014].MSA_name = crime_dic[2014].MSA_name.replace('Seattle-Bellevue-Everett, WA','Seattle-Tacoma-Bellevue, WA')\n",
    "crime_dic[2014].MSA_name = crime_dic[2014].MSA_name.replace('Tacoma-Lakewood, WA','Seattle-Tacoma-Bellevue, WA')\n",
    "crime_dic[2014].MSA_name = crime_dic[2014].MSA_name.replace('Mayaguez, Puerto Rico','Mayagüez, Puerto Rico')\n",
    "crime_dic[2014].MSA_name = crime_dic[2014].MSA_name.replace('San German, Puerto Rico','San Germán, Puerto Rico')\n",
    "\n",
    "#2015\n",
    "crime_dic[2015].MSA_name = crime_dic[2015].MSA_name.replace('Anaheim-Santa Ana-Irvine, CA','Los Angeles-Long Beach-Anaheim, CA')\n",
    "crime_dic[2015].MSA_name = crime_dic[2015].MSA_name.replace('Los Angeles-Long Beach-Glendale, CA','Los Angeles-Long Beach-Anaheim, CA')\n",
    "crime_dic[2015].MSA_name = crime_dic[2015].MSA_name.replace('Oakland-Hayward-Berkeley, CA','San Francisco-Oakland-Hayward, CA')\n",
    "crime_dic[2015].MSA_name = crime_dic[2015].MSA_name.replace('Sacramentoâ°ÃÃRosevilleâ°ÃÃArden-Arcade, CA','Sacramento--Roseville--Arden-Arcade, CA')\n",
    "crime_dic[2015].MSA_name = crime_dic[2015].MSA_name.replace('San Francisco-Redwood City-South San Francisco, CA','San Francisco-Oakland-Hayward, CA')\n",
    "crime_dic[2015].MSA_name = crime_dic[2015].MSA_name.replace('Fort Lauderdale-Pompano Beach-Deerfield Beach, FL','Miami-Fort Lauderdale-West Palm Beach, FL')\n",
    "crime_dic[2015].MSA_name = crime_dic[2015].MSA_name.replace('Miami-Miami Beach-Kendall, FL','Miami-Fort Lauderdale-West Palm Beach, FL')\n",
    "crime_dic[2015].MSA_name = crime_dic[2015].MSA_name.replace('Macon-Bibb County, GA','Macon, GA')\n",
    "crime_dic[2015].MSA_name = crime_dic[2015].MSA_name.replace('Chicago-Naperville-Arlington Heights, IL','Chicago-Naperville-Elgin, IL-IN-WI')\n",
    "crime_dic[2015].MSA_name = crime_dic[2015].MSA_name.replace('Elgin, IL','Chicago-Naperville-Elgin, IL-IN-WI')\n",
    "crime_dic[2015].MSA_name = crime_dic[2015].MSA_name.replace('Wilmington, DE-MD-NJ','Philadelphia-Camden-Wilmington, PA-NJ-DE-MD')\n",
    "crime_dic[2015].MSA_name = crime_dic[2015].MSA_name.replace('Detroit-Dearborn-Livonia, MI','Detroit-Warren-Dearborn, MI')\n",
    "crime_dic[2015].MSA_name = crime_dic[2015].MSA_name.replace('Warren-Troy-Farmington Hills, MI','Detroit-Warren-Dearborn, MI')\n",
    "crime_dic[2015].MSA_name = crime_dic[2015].MSA_name.replace('Camden, NJ','Philadelphia-Camden-Wilmington, PA-NJ-DE-MD')\n",
    "crime_dic[2015].MSA_name = crime_dic[2015].MSA_name.replace('Wilmington, DE-MD-NJ','Philadelphia-Camden-Wilmington, PA-NJ-DE-MD')\n",
    "crime_dic[2015].MSA_name = crime_dic[2015].MSA_name.replace('Philadelphia, PA','Philadelphia-Camden-Wilmington, PA-NJ-DE-MD')\n",
    "crime_dic[2015].MSA_name = crime_dic[2015].MSA_name.replace('Nashville-Davidsonâ°ÃÃMurfreesboroâ°ÃÃFranklin, TN','Nashville-Davidson--Murfreesboro--Franklin, TN')\n",
    "crime_dic[2015].MSA_name = crime_dic[2015].MSA_name.replace('Dallas-Plano-Irving, TX','Dallas-Fort Worth-Arlington, TX')\n",
    "crime_dic[2015].MSA_name = crime_dic[2015].MSA_name.replace('Fort Worth-Arlington, TX','Dallas-Fort Worth-Arlington, TX')\n",
    "crime_dic[2015].MSA_name = crime_dic[2015].MSA_name.replace('Seattle-Bellevue-Everett, WA','Seattle-Tacoma-Bellevue, WA')\n",
    "crime_dic[2015].MSA_name = crime_dic[2015].MSA_name.replace('Tacoma-Lakewood, WA','Seattle-Tacoma-Bellevue, WA')\n",
    "crime_dic[2015].MSA_name = crime_dic[2015].MSA_name.replace('Mayaguez, Puerto Rico','Mayagüez, Puerto Rico')\n",
    "crime_dic[2015].MSA_name = crime_dic[2015].MSA_name.replace('San German, Puerto Rico','San Germán, Puerto Rico')\n",
    "\n",
    "\n",
    "#2106\n",
    "crime_dic[2016].MSA_name = crime_dic[2016].MSA_name.replace('Anaheim-Santa Ana-Irvine, CA','Los Angeles-Long Beach-Anaheim, CA')\n",
    "crime_dic[2016].MSA_name = crime_dic[2016].MSA_name.replace('Los Angeles-Long Beach-Anaheim, CA','Los Angeles-Long Beach-Anaheim, CA')\n",
    "crime_dic[2016].MSA_name = crime_dic[2016].MSA_name.replace('Oakland-Hayward-Berkeley, CA','San Francisco-Oakland-Hayward, CA')\n",
    "crime_dic[2016].MSA_name = crime_dic[2016].MSA_name.replace('Sacramento - Roseville - Arden - Arcade, CA','Sacramento--Roseville--Arden-Arcade, CA')\n",
    "crime_dic[2016].MSA_name = crime_dic[2016].MSA_name.replace('San Francisco-Redwood City-South San Francisco, CA','San Francisco-Oakland-Hayward, CA')\n",
    "crime_dic[2016].MSA_name = crime_dic[2016].MSA_name.replace('Fort Lauderdale-Pompano Beach-Deerfield Beach, FL','Fort Lauderdale-Pompano Beach-Deerfield Beach, FL')\n",
    "crime_dic[2016].MSA_name = crime_dic[2016].MSA_name.replace('Miami-Miami Beach-Kendall, FL','Miami-Fort Lauderdale-West Palm Beach, FL')\n",
    "crime_dic[2016].MSA_name = crime_dic[2016].MSA_name.replace('Chicago-Naperville-Arlington Heights, IL','Chicago-Naperville-Elgin, IL-IN-WI')\n",
    "crime_dic[2016].MSA_name = crime_dic[2016].MSA_name.replace('Elgin, IL','Chicago-Naperville-Elgin, IL-IN-WI')\n",
    "crime_dic[2016].MSA_name = crime_dic[2016].MSA_name.replace('Boston, MA','Boston-Cambridge-Newton, MA-NH')\n",
    "crime_dic[2016].MSA_name = crime_dic[2016].MSA_name.replace('Cambridge-Newton-Framingham, MA','Boston-Cambridge-Newton, MA-NH')\n",
    "crime_dic[2016].MSA_name = crime_dic[2016].MSA_name.replace('Detroit-Dearborn-Livonia, MI','Detroit-Warren-Dearborn, MI')\n",
    "crime_dic[2016].MSA_name = crime_dic[2016].MSA_name.replace('Warren-Troy-Farmington Hills, MI','Detroit-Warren-Dearborn, MI')\n",
    "crime_dic[2016].MSA_name = crime_dic[2016].MSA_name.replace('Camden, NJ','Philadelphia-Camden-Wilmington, PA-NJ-DE-MD')\n",
    "crime_dic[2016].MSA_name = crime_dic[2016].MSA_name.replace('New York-Jersey City-White Plains, NY-NJ','New York-Newark-Jersey City, NY-NJ-PA')\n",
    "crime_dic[2016].MSA_name = crime_dic[2016].MSA_name.replace('Wilmington, DE-MD-NJ','Philadelphia-Camden-Wilmington, PA-NJ-DE-MD')\n",
    "crime_dic[2016].MSA_name = crime_dic[2016].MSA_name.replace('Newark, NJ-PA','New York-Newark-Jersey City, NY-NJ-PA')\n",
    "crime_dic[2016].MSA_name = crime_dic[2016].MSA_name.replace('Philadelphia, PA','Philadelphia-Camden-Wilmington, PA-NJ-DE-MD')\n",
    "crime_dic[2016].MSA_name = crime_dic[2016].MSA_name.replace('Nashville - Davidson - Murfreesboro - Franklin, TN','Nashville-Davidson--Murfreesboro--Franklin, TN')\n",
    "crime_dic[2016].MSA_name = crime_dic[2016].MSA_name.replace('Dallas-Plano-Irving, TX','Dallas-Fort Worth-Arlington, TX')\n",
    "crime_dic[2016].MSA_name = crime_dic[2016].MSA_name.replace('Fort Worth-Arlington, TX','Dallas-Fort Worth-Arlington, TX')\n",
    "crime_dic[2016].MSA_name = crime_dic[2016].MSA_name.replace('Seattle-Bellevue-Everett, WA','Seattle-Tacoma-Bellevue, WA')\n",
    "crime_dic[2016].MSA_name = crime_dic[2016].MSA_name.replace('Tacoma-Lakewood, WA','Seattle-Tacoma-Bellevue, WA')\n",
    "crime_dic[2016].MSA_name = crime_dic[2016].MSA_name.replace('Mayaguez, Puerto Rico','Mayagüez, Puerto Rico')\n",
    "crime_dic[2016].MSA_name = crime_dic[2016].MSA_name.replace('San German, Puerto Rico','San Germán, Puerto Rico')\n",
    "\n",
    "\n",
    "#need to find a way to replace this one with regular expressions\n",
    "crime_dic[2007].MSA_name = crime_dic[2007].MSA_name.replace('SacramentoÃ¢ÂÂArden-ArcadeÃ¢ÂÂRoseville, CA','Sacramento--Arden-Arcade--Roseville, CA')\n",
    "\n"
   ]
  },
  {
   "cell_type": "markdown",
   "metadata": {},
   "source": [
    "### Cases Where no matching census MSA could be found for an FBI MSA\n",
    "\n",
    "##### In FBI data the following no equivalent in Census data for 2006: \n",
    "Bethesda-Gaithersburg-Frederick,MD; CamdenNJ; Edison, NJ; Carson City, NV; Warren-Troy-Farmington Hills, MI; West Palm Beach-Boca Raton-Boynton Beach, FL; Lewiston, ID-WA; Nassau-Suffolk, NY; Newark-Union, NJ-PA; Santa Ana-Anaheim-Irvine, CA\n",
    "\n",
    "##### In FBI data the following no equivalent in Census data for 2007: \n",
    "Santa Ana-Anaheim-Irvine, CA; West Palm Beach-Boca Raton-Boynton Beach, FL; Cambridge-Newton-Framingham, MA; Peabody, MA; Bethesda-Frederick-Gaithersburg, MD; New York-White Plains-Wayne, NY-NJ; Newark-Union, NJ-PA; Carson City, NV; Nassau-Suffolk, NY; Lewiston, ID-WA; Tacoma, WA\n",
    "\n",
    "##### In FBI data the following no equivalent in Census data for 2008: \n",
    "West Palm Beach-Boca Raton-Boynton Beach, FL; Peabody, MA; Cambridge-Newton-Framingham, MA; Bethesda-Frederick-Rockville, MD; Rockingham County-Strafford County, NH;  Edison-New Brunswick, NJ; Newark-Union, NJ-PA; Carson City, NV; Nassau-Suffolk, NY\n",
    "\n",
    "##### In FBI data the following no equivalent in Census data for 2009: \n",
    "West Palm Beach-Boca Raton-Boynton Beach, FL; Bethesda-Rockville-Frederick, MD; Rockingham County-Strafford County, NH; Nassau-Suffolk, NY;Newark-Union, NJ-PA\n",
    "\n",
    "##### In FBI data the following no equivalent in Census data for 2010: \n",
    "West Palm Beach-Boca Raton-Boynton Beach, FL; Cambridge-Newton-Framingham, MA; Peabody, MA; Bethesda-Rockville-Frederick, MD; Rockingham County-Strafford County, NH; Edison-New Brunswick, NJ; Newark-Union, NJ-PA\n",
    "\n",
    "##### In FBI data the following no equivalent in Census data for 2011: \n",
    "West Palm Beach-Boca Raton-Boynton Beach, FL; Lake County-Kenosha County, IL-WI; Gary, IN; Cambridge-Newton-Framingham, MA; Peabody, MA; Bethesda-Rockville-Frederick, MD; Rockingham County-Strafford County, NH; Edison-New Brunswick, NJ; Newark-Union, NJ-PA; Newark-Union, NJ-PA\n",
    "\n",
    "##### In FBI data the following no equivalent in Census data for 2012: \n",
    "West Palm Beach-Boca Raton-Delray Beach, FL; Lake County-Kenosha County, IL-WI; Gary, IN; Silver Spring-Frederick-Rockville, MD; Rockingham County-Strafford County, NH; Dutchess County-Putnam County, NY; Nassau County-Suffolk County, NY; Montgomery County-Bucks County-Chester County, PA; Seattle-Tacoma-Bellevue, WA; Lake County-Kenosha County, IL-WI; Arecibo, Puerto Rico; \n",
    "\n",
    "##### In FBI data the following no equivalent in Census data for 2013: \n",
    "San Rafael, CA; West Palm Beach-Boca Raton-Delray Beach, FL; Gary, IN; Cambridge-Newton-Framingham, MA; Silver Spring-Frederick-Rockville, MD; Rockingham County-Strafford County, NH; Dutchess County-Putnam County, NY;;  Nassau County-Suffolk County, NY; Montgomery County-Bucks County-Chester County, PA; \n",
    "\n",
    "##### In FBI data the following no equivalent in Census data for 2014: \n",
    "San Rafael, CA; West Palm Beach-Boca Raton-Delray Beach, FL; Lake County-Kenosha County, IL-WI; Silver Spring-Frederick-Rockville, MD; Dutchess County-Putnam County, NY; Nassau County-Suffolk County, NY; Lake County-Kenosha County, IL-WI; \n",
    "\n",
    "##### In FBI data the following no equivalent in Census data for 2015: \n",
    "San Rafael, CA; West Palm Beach-Boca Raton-Delray Beach, FL; Lake County-Kenosha County, IL-WI; Silver Spring-Frederick-Rockville, MD; Enid, OK; Montgomery County-Bucks County-Chester County, PA\n",
    "\n",
    "##### In FBI data the following no equivalent in Census data for 2016: \n",
    "San Rafael, CA; West Palm Beach-Boca Raton-Delray Beach, FL; Lake County-Kenosha County, IL-WI; Silver Spring-Frederick-Rockville, MD; Rockingham County-Strafford County, NH; Nassau County-Suffolk County, NY; Montgomery County-Bucks County-Chester County, PA; Lake County-Kenosha County, IL-WI"
   ]
  },
  {
   "cell_type": "code",
   "execution_count": 8,
   "metadata": {
    "collapsed": true
   },
   "outputs": [],
   "source": [
    "#merge the census data and crime data for each year\n",
    "dic_merge={}\n",
    "for y in range(2006, 2017):\n",
    "    dic_merge[y] = crime_dic[y].join(code_dic[y], on='MSA_name', how='inner')"
   ]
  },
  {
   "cell_type": "code",
   "execution_count": 9,
   "metadata": {},
   "outputs": [
    {
     "name": "stdout",
     "output_type": "stream",
     "text": [
      "2006 : (335, 9)\n",
      "2007 : (337, 9)\n",
      "2008 : (336, 9)\n",
      "2009 : (359, 9)\n",
      "2010 : (356, 9)\n",
      "2011 : (355, 9)\n",
      "2012 : (364, 9)\n",
      "2013 : (363, 9)\n",
      "2014 : (358, 9)\n",
      "2015 : (362, 9)\n",
      "2016 : (368, 9)\n"
     ]
    }
   ],
   "source": [
    "#check the length in each year\n",
    "for y in range(2006, 2017):\n",
    "    print(y, \":\", dic_merge[y].shape)"
   ]
  },
  {
   "cell_type": "code",
   "execution_count": 10,
   "metadata": {
    "collapsed": true
   },
   "outputs": [],
   "source": [
    "#concatenate the years together to have one dataframe. \n",
    "df_full_crime_codes = pd.concat([dic_merge[2006], dic_merge[2007], dic_merge[2008], dic_merge[2009], dic_merge[2010],\n",
    "                                dic_merge[2011], dic_merge[2012], dic_merge[2013], dic_merge[2014], dic_merge[2015],\n",
    "                                dic_merge[2016]])\n"
   ]
  },
  {
   "cell_type": "code",
   "execution_count": 11,
   "metadata": {},
   "outputs": [
    {
     "data": {
      "text/plain": [
       "(3893, 8)"
      ]
     },
     "execution_count": 11,
     "metadata": {},
     "output_type": "execute_result"
    }
   ],
   "source": [
    "#view the results\n",
    "list(df_full_crime_codes)\n",
    "\n",
    "#get rid of the extra year column\n",
    "df_full_crime_codes = df_full_crime_codes.drop('Year', 1) \n",
    "df_full_crime_codes.shape"
   ]
  },
  {
   "cell_type": "markdown",
   "metadata": {
    "collapsed": true
   },
   "source": [
    "### Add states"
   ]
  },
  {
   "cell_type": "code",
   "execution_count": 15,
   "metadata": {},
   "outputs": [
    {
     "data": {
      "text/plain": [
       "(961, 11)"
      ]
     },
     "execution_count": 15,
     "metadata": {},
     "output_type": "execute_result"
    }
   ],
   "source": [
    "#read in data states\n",
    "df_cbsa_state=pd.read_csv('raw data/cbsa_states.csv')\n",
    "\n",
    "#rename variable, drop duplicates in terms of cbsa code, re index\n",
    "df_cbsa_state = df_cbsa_state.rename(columns={'CBSA Code': 'MSA'})\n",
    "df_cbsa_state=df_cbsa_state.drop_duplicates(subset='MSA', keep='first')\n",
    "df_cbsa_state=df_cbsa_state.set_index('MSA')\n",
    "\n",
    "df_cbsa_state.shape"
   ]
  },
  {
   "cell_type": "code",
   "execution_count": 16,
   "metadata": {},
   "outputs": [
    {
     "data": {
      "text/plain": [
       "(3893, 19)"
      ]
     },
     "execution_count": 16,
     "metadata": {},
     "output_type": "execute_result"
    }
   ],
   "source": [
    "#merge state names in\n",
    "df_crime_state = df_full_crime_codes.join(df_cbsa_state, on='MSA', how='left')\n",
    "df_crime_state.shape"
   ]
  },
  {
   "cell_type": "markdown",
   "metadata": {},
   "source": [
    "### Add Zipcodes"
   ]
  },
  {
   "cell_type": "code",
   "execution_count": 17,
   "metadata": {
    "collapsed": true
   },
   "outputs": [],
   "source": [
    "#read in table that matches zipcodes and MSAs (called CBSAs in this dataset)\n",
    "df_zip=pd.read_csv('raw data/Zipcodes_to_MSA.csv')\n",
    "\n",
    "#rename variable, drop duplicates in terms of cbsa code, re index\n",
    "df_zip = df_zip.rename(columns={'CBSA': 'MSA'})\n",
    "df_zip=df_zip.drop_duplicates(subset='MSA', keep='first')\n",
    "df_zip=df_zip.set_index('MSA')"
   ]
  },
  {
   "cell_type": "code",
   "execution_count": 18,
   "metadata": {},
   "outputs": [
    {
     "data": {
      "text/plain": [
       "['ZCTA5',\n",
       " 'MEMI',\n",
       " 'POPPT',\n",
       " 'HUPT',\n",
       " 'AREAPT',\n",
       " 'AREALANDPT',\n",
       " 'ZPOP',\n",
       " 'ZHU',\n",
       " 'ZAREA',\n",
       " 'ZAREALAND',\n",
       " 'MPOP',\n",
       " 'MHU',\n",
       " 'MAREA',\n",
       " 'MAREALAND',\n",
       " 'ZPOPPCT',\n",
       " 'ZHUPCT',\n",
       " 'ZAREAPCT',\n",
       " 'ZAREALANDPCT',\n",
       " 'MPOPPCT',\n",
       " 'MHUPCT',\n",
       " 'MAREAPCT',\n",
       " 'MAREALANDPCT']"
      ]
     },
     "execution_count": 18,
     "metadata": {},
     "output_type": "execute_result"
    }
   ],
   "source": [
    "list(df_zip)"
   ]
  },
  {
   "cell_type": "code",
   "execution_count": 19,
   "metadata": {},
   "outputs": [
    {
     "data": {
      "text/plain": [
       "(3893, 41)"
      ]
     },
     "execution_count": 19,
     "metadata": {},
     "output_type": "execute_result"
    }
   ],
   "source": [
    "#merge \n",
    "df_msa_state_zip_crime = df_crime_state.join(df_zip, how='left', on='MSA' )\n",
    "df_msa_state_zip_crime.shape"
   ]
  },
  {
   "cell_type": "code",
   "execution_count": 20,
   "metadata": {
    "collapsed": true
   },
   "outputs": [],
   "source": [
    "for var in list(df_zip):\n",
    "    del df_msa_state_zip_crime[var]"
   ]
  },
  {
   "cell_type": "code",
   "execution_count": 21,
   "metadata": {},
   "outputs": [
    {
     "name": "stdout",
     "output_type": "stream",
     "text": [
      "Crime Shape: (3893, 8)\n",
      "Zipcode Shape: (955, 22)\n",
      "Crime and Zipcode Shape: (3893, 19)\n"
     ]
    }
   ],
   "source": [
    "print('Crime Shape:', df_full_crime_codes.shape)\n",
    "print('Zipcode Shape:',  df_zip.shape)\n",
    "print('Crime and Zipcode Shape:' , df_msa_state_zip_crime.shape)\n"
   ]
  },
  {
   "cell_type": "markdown",
   "metadata": {
    "collapsed": true
   },
   "source": [
    "### Merge in gun laws data\n"
   ]
  },
  {
   "cell_type": "code",
   "execution_count": 22,
   "metadata": {
    "collapsed": true
   },
   "outputs": [],
   "source": [
    "#import gun dataset\n",
    "df_gun_laws=pd.read_csv('raw data/state-firearms/raw_data.csv')\n",
    "\n",
    "#keep only relevant years\n",
    "df_gun_laws = df_gun_laws[df_gun_laws.year > 2005]\n",
    "\n",
    "#rename column in crime data\n",
    "df_msa_state_zip_crime = df_msa_state_zip_crime.rename(columns={'State Name': 'state'})\n",
    "df_msa_state_zip_crime = df_msa_state_zip_crime.rename(columns={'Year': 'year'})"
   ]
  },
  {
   "cell_type": "code",
   "execution_count": 23,
   "metadata": {},
   "outputs": [
    {
     "data": {
      "text/plain": [
       "['Unnamed: 0',\n",
       " 'MSA_name',\n",
       " 'Total',\n",
       " 'Estimated',\n",
       " 'Rate',\n",
       " 'MSA_original_name',\n",
       " 'MSA',\n",
       " 'year',\n",
       " 'Metropolitan Division Code',\n",
       " 'CSA Code',\n",
       " 'CBSA Title',\n",
       " 'Metropolitan/Micropolitan Statistical Area',\n",
       " 'Metropolitan Division Title',\n",
       " 'CSA Title',\n",
       " 'County/County Equivalent',\n",
       " 'state',\n",
       " 'FIPS State Code',\n",
       " 'FIPS County Code',\n",
       " 'Central/Outlying County']"
      ]
     },
     "execution_count": 23,
     "metadata": {},
     "output_type": "execute_result"
    }
   ],
   "source": [
    "list(df_msa_state_zip_crime)"
   ]
  },
  {
   "cell_type": "code",
   "execution_count": 24,
   "metadata": {
    "collapsed": true
   },
   "outputs": [],
   "source": [
    "#merge in\n",
    "df_crime_gunlaw_msacodes = df_msa_state_zip_crime.merge(df_gun_laws, on=['state', 'year'], how='left')"
   ]
  },
  {
   "cell_type": "code",
   "execution_count": 25,
   "metadata": {},
   "outputs": [
    {
     "name": "stdout",
     "output_type": "stream",
     "text": [
      "(3893, 153)\n",
      "(3893, 19)\n"
     ]
    }
   ],
   "source": [
    "#check merge\n",
    "print(df_crime_gunlaw_msacodes.shape)\n",
    "print(df_msa_state_zip_crime.shape)"
   ]
  },
  {
   "cell_type": "markdown",
   "metadata": {},
   "source": [
    "## Export to csv"
   ]
  },
  {
   "cell_type": "code",
   "execution_count": 26,
   "metadata": {
    "collapsed": true
   },
   "outputs": [],
   "source": [
    "#export a CSV\n",
    "df_crime_gunlaw_msacodes.to_csv('cleaned data/df_crime_gunlaw_msacodes.csv')"
   ]
  },
  {
   "cell_type": "code",
   "execution_count": null,
   "metadata": {
    "collapsed": true
   },
   "outputs": [],
   "source": []
  }
 ],
 "metadata": {
  "kernelspec": {
   "display_name": "Python 3",
   "language": "python",
   "name": "python3"
  },
  "language_info": {
   "codemirror_mode": {
    "name": "ipython",
    "version": 3
   },
   "file_extension": ".py",
   "mimetype": "text/x-python",
   "name": "python",
   "nbconvert_exporter": "python",
   "pygments_lexer": "ipython3",
   "version": "3.6.1"
  }
 },
 "nbformat": 4,
 "nbformat_minor": 2
}
