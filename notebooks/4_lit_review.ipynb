{
 "cells": [
  {
   "cell_type": "markdown",
   "metadata": {},
   "source": [
    "#  Predictor and model selection\n",
    "\n",
    "Before beginning our analysis we prepared to select predictor variables and models. We condcuted a liturature review to inform our selection of predictors and constructed a matrix of possible models and their respective strengths and weaknesses to inform our model selection. \n",
    "\n",
    "## Predictor selection\n",
    "\n",
    "We based the variables we chose on a careful review of the literature on causes of crime and murders. The findings of our lituraure, and predictors that we included in our models as a result of each finding review are summarized in the table below.  \n",
    "\n",
    "##### Census variables\n",
    "The first section of the table includes reviews predictors found in the census which the liturature review indicated would be useful to include. Variables that measured each of these were taken directly from data sets available from the US Census Bureau for every state in every relevant year. \n",
    "\n",
    "##### Other variables\n",
    "The second section reviews other variables which the liturature reivew indicated would be useful. \n",
    "\n",
    "Of the three predictors of interest we identified, outside of the census data, we were only able to usable data for access to firearms. For this we used a dataset from the State Firearms Law Project, which documents all possible types of gun control legislation and  assigns a binary variable of or 0 or 1 to every state in every year based on whether the law was active in that state at that time. \n"
   ]
  },
  {
   "cell_type": "markdown",
   "metadata": {},
   "source": [
    "\n",
    "### Liturature review\n",
    "\n",
    "| ﻿Variable                                                                | Relationship with crime                                                                                                                                                                                                                                                                                                                                                                                                      | Reference                                                                                                           |\n",
    "|-------------------------------------------------------------------------|------------------------------------------------------------------------------------------------------------------------------------------------------------------------------------------------------------------------------------------------------------------------------------------------------------------------------------------------------------------------------------------------------------------------------|---------------------------------------------------------------------------------------------------------------------|\n",
    "| **Census Data**                                                             |                                                                                                                                                                                                                                                                                                                                                                                                                              |                                                                                                                     |\n",
    "| Population by Age                                                       | According to crime statistics young people have higher contributions to crime.                                                                                                                                                                                                                                                                                                                                               | Blumstein and Rosenfeld (1998)                                                                                      |\n",
    "| Population by Race                                                      | Minority populations tend to have higher contribution to crime rates. Additionally, in previous research non-white young population has been used to analyze crime trends to account for demographic change. Other studies have used this information to account for differences in culture.                                                                                                                                 | Blumstein and Rosenfeld (1998), Ehlrich (1979)                                                                      |\n",
    "| Population by Gender                                                    | Looking murder rate statistics, we can see that male population has a higher contribution to crime rates.  Additionally, it helps to factor demographic characteristics.                                                                                                                                                                                                                                                     | Blumstein and Rosenfeld (1998)                                                                                      |\n",
    "| Age dependency ratio,  Old age dependency ratio, Child dependency ratio | These variables help describe the demographics as it relates to population in economic active ages with the rest of the population. As mentioned above population demographics are an important factor on crime statistics. In particular, a increase on dependency can strain economic resources within households. Moreover, as mentioned before, youth population high representation in crime rates.                     | Blumstein and Rosenfeld (1998), Ehlrich (1979), Deming (2009), Kling, Ludwig, Katz (2005), Lochner, Moretti  (2003) |\n",
    "| Marriage status                                                         | Over the last decades, studies have shown a decline in homicides involving spouses. Declining marriage rates, high divorce rates, has been found an important factor in this drop.                                                                                                                                                                                                                                           | Blumstein and Rosenfeld (1998)                                                                                      |\n",
    "| Type of housing                                                         | Access to stable housing is associated with lower crime rates.                                                                                                                                                                                                                                                                                                                                                               | Office of Policy Development and Research, US Department of Housing and Urban Development.                          |\n",
    "| School Enrollment                                                       | Attending school not only affect crime rates by increasing school attainment and potentially increasing future earnings but also by keeping young people off of streets and away from crime prone environments.                                                                                                                                                                                                              | Deming (2009), Kling, Ludwig, Katz (2005)                                                                           |\n",
    "| School Attainment                                                       | Becker's seminal paper on crime economic research related educational attainment with crime. According to Becker's theory, educational attainment changes people's costs of criminal behavior. Additionally, more recent research has shown that differences in educational attainment explains almost 25% of racial differences in incarceration and that school attainment has a high effect in reduction of murder.       | Lochner, Moretti  (2003)                                                                                            |\n",
    "| Veteran Status                                                          | Veterans have around 10% representation in incarceration rates. Additionally, there is research regarding PSTD in veterans that increase violent behavior, drug use, etc.                                                                                                                                                                                                                                                    | Noonan, Mumola (2004)                                                                                               |\n",
    "| Disability Status, Citizenship Status                                   | These variables help describe the population demographics. They might be relevant because these populations are group minorities that may have difficulties to find jobs, be in a high risk of poverty and may be less well integrated to the rest of the community                                                                                                                                                          | Blumstein and Rosenfeld (1998)                                                                                      |\n",
    "| Employment                                                              | Economic opportunity and expected future earnings have been the center of economic research of crime. Changing opportunities of economic activity can be an essential factor for crime reduction. Information of employment, particularly for young male population is relevant and commonly used in empirical analysis of crime.                                                                                            | Elrich (1979)                                                                                                       |\n",
    "| Industry                                                                | Economic literature that tries to predict crime rate changes has used economic sectors as predictors of crime to try to account the differences in wages, employment opportunity. Areas that host industries with higher income can deter incentives of crime.                                                                                                                                                               | Cornwell, Trumbull (1994)                                                                                           |\n",
    "| Income and Poverty Status                                               | Lower income population has higher contribution to crime rates. Additionally, recent research has found links between income distribution, and in particular inequality, and crime.  Poverty has a strong relationship with crime and, particularly, murder.  Populations with higher poverty rates tend to have a higher level of crime and members of this population group have a strong presence in incarceration rates. | Fajnzylber, Lederman, Loayza (2002)                                                                                 |\n",
    "| **Other data**                                                              |                                                                                                                                                                                                                                                                                                                                                                                                                              |                                                                                                                     |\n",
    "| Access to fire arms                                                     | Handguns in youth and juvenile homicide must be considered of fundamental importance in any explanation of the homicide. Changes  in weaponry in young people's hands has had widespread recognition of being a changing role in crime. For example, the use of weapons used in settling juveniles' disputes instead of knives, increase homicides in particular race and age groups.                                        | Blumstein and Rosenfeld (1998)                                                                                      |\n",
    "| Social Cohesion                                                         | Social cohesion, civic norms  may increase returns to noncriminal activities and raise detection probabilities. Neighborhood characteristics that include community engagement, confidence in  police, etc.                                                                                                                                                                                                                  | Kling, Ludwig, Katz (2005)                                                                                          |\n",
    "| Abortion legalization                                                   | Recent research has offered evidence that legalized abortion has contributed significantly to recent crime reductions. Crime began to fall roughly eighteen years after abortion legalization.                                                                                                                                                                                                                               | Donhue, Levitt (2001)                                                                                               |"
   ]
  },
  {
   "cell_type": "markdown",
   "metadata": {},
   "source": [
    "## Model selection\n",
    "\n",
    "Our project has two goals. The first is to develop a model that can predict the murder rate, and the second is to develop a model that can predict if the murder rate in a given metropolitan area will fall in the next year. The first question requires a continous predction model and the second a categorical prediction model. \n",
    "\n",
    "To inform our thinking and prepare for our analysis we first reviewed the prediction models that we might want to use, and considered their strengths and weaknesses in our context. We did this seperately for continuous and categorical prediction in the two tables below. \n",
    "\n"
   ]
  },
  {
   "cell_type": "markdown",
   "metadata": {},
   "source": [
    "### Continous models matrix\n",
    "| ﻿Model              | Strengths                                                                                                                    | Weaknesses                                                                                                                                                     |\n",
    "|--------------------|------------------------------------------------------------------------------------------------------------------------------|----------------------------------------------------------------------------------------------------------------------------------------------------------------|\n",
    "| OLS                | Straight forward to understand and explain to policy makers. Allows for easy interpretation of significance of coefficients. | Dimensionality can’t be reduces. Likely so suffer from over fitting in our case when we have so many variables.                                                |\n",
    "| Stepwise selection | Allows for easy interpretation of significance of coefficients. Reduces dimensionality.                                      | Difficult procedure to explain to policy makers. Produces models with less explanatory power.                                                                  |\n",
    "| Ridge              | Produces models with high predictive power.                                                                                  | Difficult procedure to explain to policy makers. Does not perform model selection or variable selection. Difficult to interpret coefficients and significance. |\n",
    "| Lasso              | Produces models with high predictive power. Performs model selection and reduces dimensionality of problem.                  | Difficult procedure to explain to policy makers. Difficult to interpret coefficients and significance.                                                         |\n",
    "| K-NN               | Does not impose linearity on data, allows for greatest possible degree of flexibility in modeling.                           | Difficult procedure to explain to policy makers. Does not perform model selection or variable selection. Difficult to interpret coefficients and significance. |"
   ]
  },
  {
   "cell_type": "markdown",
   "metadata": {},
   "source": [
    "### Catagorical models matrix\n",
    "\n",
    "| ﻿Model                          | Strengths                                                                                                                                                                                                                                                                             | Weaknesses                                                                                                                                |\n",
    "|--------------------------------|---------------------------------------------------------------------------------------------------------------------------------------------------------------------------------------------------------------------------------------------------------------------------------------|-------------------------------------------------------------------------------------------------------------------------------------------|\n",
    "| Logistic Model                 | It is easy to understand and has high predictive power. Allows for easy interpretation of significance of coefficients.  We can observe probabilities associated with each observation.                                                                                               | Doesn’t perform well when feature space is too large. Doesn’t handle large number of categorical features/variables well.                 |\n",
    "| LDA/ QDA                       | Decision boundary are usually not complex. Not very demanding in memory. If number of features is small and the distribution of the predictors is approximately normal in each of the classes, the linear discriminant model is again more stable than the logistic regression model. | Hard to interpret. Makes a lot of assumptions. Quite sensitive to outliers.                                                               |\n",
    "| Decision Trees/ Random Forests | Models obtained from decision tree are intuitive and easy to explain. Can handle non-linear features. The problem of over-fitting is overcome to large extent by using Random Forests,                                                                                                | Probability scores are not a direct result., Can over fit the training set.                                                               |\n",
    "| SVM                            | Performs well with large number of features, non-linear interactions and does not rely on the entire data. Has a regularization parameter, which makes the user think about avoiding over-fitting.                                                                                    | Not very efficient with large number of observations.Moves the problem of over-fitting from optimizing the parameters to model selection. |"
   ]
  },
  {
   "cell_type": "markdown",
   "metadata": {},
   "source": []
  }
 ],
 "metadata": {
  "kernelspec": {
   "display_name": "Python 3",
   "language": "python",
   "name": "python3"
  },
  "language_info": {
   "codemirror_mode": {
    "name": "ipython",
    "version": 3
   },
   "file_extension": ".py",
   "mimetype": "text/x-python",
   "name": "python",
   "nbconvert_exporter": "python",
   "pygments_lexer": "ipython3",
   "version": "3.6.1"
  }
 },
 "nbformat": 4,
 "nbformat_minor": 2
}
